{
  "cells": [
    {
      "cell_type": "code",
      "execution_count": null,
      "metadata": {
        "id": "Cv-sNLrTojMv"
      },
      "outputs": [],
      "source": [
        "import warnings\n",
        "warnings.filterwarnings('ignore')"
      ]
    },
    {
      "cell_type": "code",
      "execution_count": null,
      "metadata": {
        "colab": {
          "base_uri": "https://localhost:8080/",
          "height": 1000
        },
        "id": "yn92MURWUnXK",
        "outputId": "b1551c61-8b8f-4dd6-e8d2-9161ae6edfcc"
      },
      "outputs": [
        {
          "output_type": "stream",
          "name": "stdout",
          "text": [
            "Collecting swifter\n",
            "  Downloading swifter-1.1.3.tar.gz (647 kB)\n",
            "\u001b[?25l\r\u001b[K     |▌                               | 10 kB 27.4 MB/s eta 0:00:01\r\u001b[K     |█                               | 20 kB 25.4 MB/s eta 0:00:01\r\u001b[K     |█▌                              | 30 kB 24.7 MB/s eta 0:00:01\r\u001b[K     |██                              | 40 kB 15.7 MB/s eta 0:00:01\r\u001b[K     |██▌                             | 51 kB 10.5 MB/s eta 0:00:01\r\u001b[K     |███                             | 61 kB 12.1 MB/s eta 0:00:01\r\u001b[K     |███▌                            | 71 kB 12.8 MB/s eta 0:00:01\r\u001b[K     |████                            | 81 kB 13.7 MB/s eta 0:00:01\r\u001b[K     |████▋                           | 92 kB 15.1 MB/s eta 0:00:01\r\u001b[K     |█████                           | 102 kB 14.0 MB/s eta 0:00:01\r\u001b[K     |█████▋                          | 112 kB 14.0 MB/s eta 0:00:01\r\u001b[K     |██████                          | 122 kB 14.0 MB/s eta 0:00:01\r\u001b[K     |██████▋                         | 133 kB 14.0 MB/s eta 0:00:01\r\u001b[K     |███████                         | 143 kB 14.0 MB/s eta 0:00:01\r\u001b[K     |███████▋                        | 153 kB 14.0 MB/s eta 0:00:01\r\u001b[K     |████████                        | 163 kB 14.0 MB/s eta 0:00:01\r\u001b[K     |████████▋                       | 174 kB 14.0 MB/s eta 0:00:01\r\u001b[K     |█████████▏                      | 184 kB 14.0 MB/s eta 0:00:01\r\u001b[K     |█████████▋                      | 194 kB 14.0 MB/s eta 0:00:01\r\u001b[K     |██████████▏                     | 204 kB 14.0 MB/s eta 0:00:01\r\u001b[K     |██████████▋                     | 215 kB 14.0 MB/s eta 0:00:01\r\u001b[K     |███████████▏                    | 225 kB 14.0 MB/s eta 0:00:01\r\u001b[K     |███████████▋                    | 235 kB 14.0 MB/s eta 0:00:01\r\u001b[K     |████████████▏                   | 245 kB 14.0 MB/s eta 0:00:01\r\u001b[K     |████████████▋                   | 256 kB 14.0 MB/s eta 0:00:01\r\u001b[K     |█████████████▏                  | 266 kB 14.0 MB/s eta 0:00:01\r\u001b[K     |█████████████▊                  | 276 kB 14.0 MB/s eta 0:00:01\r\u001b[K     |██████████████▏                 | 286 kB 14.0 MB/s eta 0:00:01\r\u001b[K     |██████████████▊                 | 296 kB 14.0 MB/s eta 0:00:01\r\u001b[K     |███████████████▏                | 307 kB 14.0 MB/s eta 0:00:01\r\u001b[K     |███████████████▊                | 317 kB 14.0 MB/s eta 0:00:01\r\u001b[K     |████████████████▏               | 327 kB 14.0 MB/s eta 0:00:01\r\u001b[K     |████████████████▊               | 337 kB 14.0 MB/s eta 0:00:01\r\u001b[K     |█████████████████▏              | 348 kB 14.0 MB/s eta 0:00:01\r\u001b[K     |█████████████████▊              | 358 kB 14.0 MB/s eta 0:00:01\r\u001b[K     |██████████████████▎             | 368 kB 14.0 MB/s eta 0:00:01\r\u001b[K     |██████████████████▊             | 378 kB 14.0 MB/s eta 0:00:01\r\u001b[K     |███████████████████▎            | 389 kB 14.0 MB/s eta 0:00:01\r\u001b[K     |███████████████████▊            | 399 kB 14.0 MB/s eta 0:00:01\r\u001b[K     |████████████████████▎           | 409 kB 14.0 MB/s eta 0:00:01\r\u001b[K     |████████████████████▊           | 419 kB 14.0 MB/s eta 0:00:01\r\u001b[K     |█████████████████████▎          | 430 kB 14.0 MB/s eta 0:00:01\r\u001b[K     |█████████████████████▊          | 440 kB 14.0 MB/s eta 0:00:01\r\u001b[K     |██████████████████████▎         | 450 kB 14.0 MB/s eta 0:00:01\r\u001b[K     |██████████████████████▉         | 460 kB 14.0 MB/s eta 0:00:01\r\u001b[K     |███████████████████████▎        | 471 kB 14.0 MB/s eta 0:00:01\r\u001b[K     |███████████████████████▉        | 481 kB 14.0 MB/s eta 0:00:01\r\u001b[K     |████████████████████████▎       | 491 kB 14.0 MB/s eta 0:00:01\r\u001b[K     |████████████████████████▉       | 501 kB 14.0 MB/s eta 0:00:01\r\u001b[K     |█████████████████████████▎      | 512 kB 14.0 MB/s eta 0:00:01\r\u001b[K     |█████████████████████████▉      | 522 kB 14.0 MB/s eta 0:00:01\r\u001b[K     |██████████████████████████▍     | 532 kB 14.0 MB/s eta 0:00:01\r\u001b[K     |██████████████████████████▉     | 542 kB 14.0 MB/s eta 0:00:01\r\u001b[K     |███████████████████████████▍    | 552 kB 14.0 MB/s eta 0:00:01\r\u001b[K     |███████████████████████████▉    | 563 kB 14.0 MB/s eta 0:00:01\r\u001b[K     |████████████████████████████▍   | 573 kB 14.0 MB/s eta 0:00:01\r\u001b[K     |████████████████████████████▉   | 583 kB 14.0 MB/s eta 0:00:01\r\u001b[K     |█████████████████████████████▍  | 593 kB 14.0 MB/s eta 0:00:01\r\u001b[K     |█████████████████████████████▉  | 604 kB 14.0 MB/s eta 0:00:01\r\u001b[K     |██████████████████████████████▍ | 614 kB 14.0 MB/s eta 0:00:01\r\u001b[K     |███████████████████████████████ | 624 kB 14.0 MB/s eta 0:00:01\r\u001b[K     |███████████████████████████████▍| 634 kB 14.0 MB/s eta 0:00:01\r\u001b[K     |████████████████████████████████| 645 kB 14.0 MB/s eta 0:00:01\r\u001b[K     |████████████████████████████████| 647 kB 14.0 MB/s \n",
            "\u001b[?25hRequirement already satisfied: pandas>=1.0.0 in /usr/local/lib/python3.7/dist-packages (from swifter) (1.3.5)\n",
            "Collecting psutil>=5.6.6\n",
            "  Downloading psutil-5.9.0-cp37-cp37m-manylinux_2_12_x86_64.manylinux2010_x86_64.manylinux_2_17_x86_64.manylinux2014_x86_64.whl (280 kB)\n",
            "\u001b[K     |████████████████████████████████| 280 kB 66.9 MB/s \n",
            "\u001b[?25hRequirement already satisfied: dask[dataframe]>=2.10.0 in /usr/local/lib/python3.7/dist-packages (from swifter) (2.12.0)\n",
            "Requirement already satisfied: tqdm>=4.33.0 in /usr/local/lib/python3.7/dist-packages (from swifter) (4.64.0)\n",
            "Requirement already satisfied: ipywidgets>=7.0.0 in /usr/local/lib/python3.7/dist-packages (from swifter) (7.7.0)\n",
            "Requirement already satisfied: cloudpickle>=0.2.2 in /usr/local/lib/python3.7/dist-packages (from swifter) (1.3.0)\n",
            "Requirement already satisfied: parso>0.4.0 in /usr/local/lib/python3.7/dist-packages (from swifter) (0.8.3)\n",
            "Requirement already satisfied: bleach>=3.1.1 in /usr/local/lib/python3.7/dist-packages (from swifter) (5.0.0)\n",
            "Requirement already satisfied: webencodings in /usr/local/lib/python3.7/dist-packages (from bleach>=3.1.1->swifter) (0.5.1)\n",
            "Requirement already satisfied: six>=1.9.0 in /usr/local/lib/python3.7/dist-packages (from bleach>=3.1.1->swifter) (1.15.0)\n",
            "Collecting fsspec>=0.6.0\n",
            "  Downloading fsspec-2022.3.0-py3-none-any.whl (136 kB)\n",
            "\u001b[K     |████████████████████████████████| 136 kB 67.7 MB/s \n",
            "\u001b[?25hRequirement already satisfied: toolz>=0.7.3 in /usr/local/lib/python3.7/dist-packages (from dask[dataframe]>=2.10.0->swifter) (0.11.2)\n",
            "Requirement already satisfied: numpy>=1.13.0 in /usr/local/lib/python3.7/dist-packages (from dask[dataframe]>=2.10.0->swifter) (1.21.6)\n",
            "Collecting partd>=0.3.10\n",
            "  Downloading partd-1.2.0-py3-none-any.whl (19 kB)\n",
            "Requirement already satisfied: jupyterlab-widgets>=1.0.0 in /usr/local/lib/python3.7/dist-packages (from ipywidgets>=7.0.0->swifter) (1.1.0)\n",
            "Requirement already satisfied: ipython-genutils~=0.2.0 in /usr/local/lib/python3.7/dist-packages (from ipywidgets>=7.0.0->swifter) (0.2.0)\n",
            "Requirement already satisfied: ipython>=4.0.0 in /usr/local/lib/python3.7/dist-packages (from ipywidgets>=7.0.0->swifter) (5.5.0)\n",
            "Requirement already satisfied: ipykernel>=4.5.1 in /usr/local/lib/python3.7/dist-packages (from ipywidgets>=7.0.0->swifter) (4.10.1)\n",
            "Requirement already satisfied: traitlets>=4.3.1 in /usr/local/lib/python3.7/dist-packages (from ipywidgets>=7.0.0->swifter) (5.1.1)\n",
            "Requirement already satisfied: widgetsnbextension~=3.6.0 in /usr/local/lib/python3.7/dist-packages (from ipywidgets>=7.0.0->swifter) (3.6.0)\n",
            "Requirement already satisfied: nbformat>=4.2.0 in /usr/local/lib/python3.7/dist-packages (from ipywidgets>=7.0.0->swifter) (5.3.0)\n",
            "Requirement already satisfied: jupyter-client in /usr/local/lib/python3.7/dist-packages (from ipykernel>=4.5.1->ipywidgets>=7.0.0->swifter) (5.3.5)\n",
            "Requirement already satisfied: tornado>=4.0 in /usr/local/lib/python3.7/dist-packages (from ipykernel>=4.5.1->ipywidgets>=7.0.0->swifter) (5.1.1)\n",
            "Requirement already satisfied: pickleshare in /usr/local/lib/python3.7/dist-packages (from ipython>=4.0.0->ipywidgets>=7.0.0->swifter) (0.7.5)\n",
            "Requirement already satisfied: pexpect in /usr/local/lib/python3.7/dist-packages (from ipython>=4.0.0->ipywidgets>=7.0.0->swifter) (4.8.0)\n",
            "Requirement already satisfied: decorator in /usr/local/lib/python3.7/dist-packages (from ipython>=4.0.0->ipywidgets>=7.0.0->swifter) (4.4.2)\n",
            "Requirement already satisfied: pygments in /usr/local/lib/python3.7/dist-packages (from ipython>=4.0.0->ipywidgets>=7.0.0->swifter) (2.6.1)\n",
            "Requirement already satisfied: simplegeneric>0.8 in /usr/local/lib/python3.7/dist-packages (from ipython>=4.0.0->ipywidgets>=7.0.0->swifter) (0.8.1)\n",
            "Requirement already satisfied: setuptools>=18.5 in /usr/local/lib/python3.7/dist-packages (from ipython>=4.0.0->ipywidgets>=7.0.0->swifter) (57.4.0)\n",
            "Requirement already satisfied: prompt-toolkit<2.0.0,>=1.0.4 in /usr/local/lib/python3.7/dist-packages (from ipython>=4.0.0->ipywidgets>=7.0.0->swifter) (1.0.18)\n",
            "Requirement already satisfied: jsonschema>=2.6 in /usr/local/lib/python3.7/dist-packages (from nbformat>=4.2.0->ipywidgets>=7.0.0->swifter) (4.3.3)\n",
            "Requirement already satisfied: fastjsonschema in /usr/local/lib/python3.7/dist-packages (from nbformat>=4.2.0->ipywidgets>=7.0.0->swifter) (2.15.3)\n",
            "Requirement already satisfied: jupyter-core in /usr/local/lib/python3.7/dist-packages (from nbformat>=4.2.0->ipywidgets>=7.0.0->swifter) (4.9.2)\n",
            "Requirement already satisfied: pyrsistent!=0.17.0,!=0.17.1,!=0.17.2,>=0.14.0 in /usr/local/lib/python3.7/dist-packages (from jsonschema>=2.6->nbformat>=4.2.0->ipywidgets>=7.0.0->swifter) (0.18.1)\n",
            "Requirement already satisfied: importlib-metadata in /usr/local/lib/python3.7/dist-packages (from jsonschema>=2.6->nbformat>=4.2.0->ipywidgets>=7.0.0->swifter) (4.11.3)\n",
            "Requirement already satisfied: attrs>=17.4.0 in /usr/local/lib/python3.7/dist-packages (from jsonschema>=2.6->nbformat>=4.2.0->ipywidgets>=7.0.0->swifter) (21.4.0)\n",
            "Requirement already satisfied: typing-extensions in /usr/local/lib/python3.7/dist-packages (from jsonschema>=2.6->nbformat>=4.2.0->ipywidgets>=7.0.0->swifter) (4.1.1)\n",
            "Requirement already satisfied: importlib-resources>=1.4.0 in /usr/local/lib/python3.7/dist-packages (from jsonschema>=2.6->nbformat>=4.2.0->ipywidgets>=7.0.0->swifter) (5.7.0)\n",
            "Requirement already satisfied: zipp>=3.1.0 in /usr/local/lib/python3.7/dist-packages (from importlib-resources>=1.4.0->jsonschema>=2.6->nbformat>=4.2.0->ipywidgets>=7.0.0->swifter) (3.8.0)\n",
            "Requirement already satisfied: python-dateutil>=2.7.3 in /usr/local/lib/python3.7/dist-packages (from pandas>=1.0.0->swifter) (2.8.2)\n",
            "Requirement already satisfied: pytz>=2017.3 in /usr/local/lib/python3.7/dist-packages (from pandas>=1.0.0->swifter) (2022.1)\n",
            "Collecting locket\n",
            "  Downloading locket-1.0.0-py2.py3-none-any.whl (4.4 kB)\n",
            "Requirement already satisfied: wcwidth in /usr/local/lib/python3.7/dist-packages (from prompt-toolkit<2.0.0,>=1.0.4->ipython>=4.0.0->ipywidgets>=7.0.0->swifter) (0.2.5)\n",
            "Requirement already satisfied: notebook>=4.4.1 in /usr/local/lib/python3.7/dist-packages (from widgetsnbextension~=3.6.0->ipywidgets>=7.0.0->swifter) (5.3.1)\n",
            "Requirement already satisfied: Send2Trash in /usr/local/lib/python3.7/dist-packages (from notebook>=4.4.1->widgetsnbextension~=3.6.0->ipywidgets>=7.0.0->swifter) (1.8.0)\n",
            "Requirement already satisfied: jinja2 in /usr/local/lib/python3.7/dist-packages (from notebook>=4.4.1->widgetsnbextension~=3.6.0->ipywidgets>=7.0.0->swifter) (2.11.3)\n",
            "Requirement already satisfied: terminado>=0.8.1 in /usr/local/lib/python3.7/dist-packages (from notebook>=4.4.1->widgetsnbextension~=3.6.0->ipywidgets>=7.0.0->swifter) (0.13.3)\n",
            "Requirement already satisfied: nbconvert in /usr/local/lib/python3.7/dist-packages (from notebook>=4.4.1->widgetsnbextension~=3.6.0->ipywidgets>=7.0.0->swifter) (5.6.1)\n",
            "Requirement already satisfied: pyzmq>=13 in /usr/local/lib/python3.7/dist-packages (from jupyter-client->ipykernel>=4.5.1->ipywidgets>=7.0.0->swifter) (22.3.0)\n",
            "Requirement already satisfied: ptyprocess in /usr/local/lib/python3.7/dist-packages (from terminado>=0.8.1->notebook>=4.4.1->widgetsnbextension~=3.6.0->ipywidgets>=7.0.0->swifter) (0.7.0)\n",
            "Requirement already satisfied: MarkupSafe>=0.23 in /usr/local/lib/python3.7/dist-packages (from jinja2->notebook>=4.4.1->widgetsnbextension~=3.6.0->ipywidgets>=7.0.0->swifter) (2.0.1)\n",
            "Requirement already satisfied: pandocfilters>=1.4.1 in /usr/local/lib/python3.7/dist-packages (from nbconvert->notebook>=4.4.1->widgetsnbextension~=3.6.0->ipywidgets>=7.0.0->swifter) (1.5.0)\n",
            "Requirement already satisfied: defusedxml in /usr/local/lib/python3.7/dist-packages (from nbconvert->notebook>=4.4.1->widgetsnbextension~=3.6.0->ipywidgets>=7.0.0->swifter) (0.7.1)\n",
            "Requirement already satisfied: mistune<2,>=0.8.1 in /usr/local/lib/python3.7/dist-packages (from nbconvert->notebook>=4.4.1->widgetsnbextension~=3.6.0->ipywidgets>=7.0.0->swifter) (0.8.4)\n",
            "Requirement already satisfied: testpath in /usr/local/lib/python3.7/dist-packages (from nbconvert->notebook>=4.4.1->widgetsnbextension~=3.6.0->ipywidgets>=7.0.0->swifter) (0.6.0)\n",
            "Requirement already satisfied: entrypoints>=0.2.2 in /usr/local/lib/python3.7/dist-packages (from nbconvert->notebook>=4.4.1->widgetsnbextension~=3.6.0->ipywidgets>=7.0.0->swifter) (0.4)\n",
            "Building wheels for collected packages: swifter\n",
            "  Building wheel for swifter (setup.py) ... \u001b[?25l\u001b[?25hdone\n",
            "  Created wheel for swifter: filename=swifter-1.1.3-py3-none-any.whl size=13078 sha256=705a65edd33db3844db71f2828bcbbe1ffed99c4987feb79a65f1ca7bd6113e3\n",
            "  Stored in directory: /root/.cache/pip/wheels/e8/1a/1b/46aa7b0fac16d3ce1bccaac14bfe4fad972642217ae78d8160\n",
            "Successfully built swifter\n",
            "Installing collected packages: locket, partd, fsspec, psutil, swifter\n",
            "  Attempting uninstall: psutil\n",
            "    Found existing installation: psutil 5.4.8\n",
            "    Uninstalling psutil-5.4.8:\n",
            "      Successfully uninstalled psutil-5.4.8\n",
            "Successfully installed fsspec-2022.3.0 locket-1.0.0 partd-1.2.0 psutil-5.9.0 swifter-1.1.3\n"
          ]
        },
        {
          "output_type": "display_data",
          "data": {
            "application/vnd.colab-display-data+json": {
              "pip_warning": {
                "packages": [
                  "psutil"
                ]
              }
            }
          },
          "metadata": {}
        }
      ],
      "source": [
        "!pip install swifter"
      ]
    },
    {
      "cell_type": "code",
      "execution_count": null,
      "metadata": {
        "id": "mG2roV-mUV_h"
      },
      "outputs": [],
      "source": [
        "%matplotlib inline\n",
        "import pandas as pd\n",
        "import gc\n",
        "import os\n",
        "from nltk.sentiment import SentimentIntensityAnalyzer\n",
        "import nltk\n",
        "from random import shuffle"
      ]
    },
    {
      "cell_type": "code",
      "execution_count": null,
      "metadata": {
        "id": "DsIi_i4unZux"
      },
      "outputs": [],
      "source": [
        "gc.enable()"
      ]
    },
    {
      "cell_type": "code",
      "execution_count": null,
      "metadata": {
        "colab": {
          "base_uri": "https://localhost:8080/"
        },
        "id": "f_8-W5fjncKE",
        "outputId": "48686f4e-2aab-4a31-e79c-09007e6b5d9f"
      },
      "outputs": [
        {
          "output_type": "stream",
          "name": "stdout",
          "text": [
            "Mounted at /content/drive\n"
          ]
        }
      ],
      "source": [
        "from google.colab import drive\n",
        "drive.mount('/content/drive')"
      ]
    },
    {
      "cell_type": "code",
      "execution_count": null,
      "metadata": {
        "id": "3d6-kY1qUV_p"
      },
      "outputs": [],
      "source": [
        "path = \"/content/drive/MyDrive/\"\n",
        "f = 'Copy of gsp_en_227-311.csv.zip'\n",
        "data_en = pd.read_csv(os.path.join(path, f), lineterminator='\\n', index_col=False)"
      ]
    },
    {
      "cell_type": "code",
      "execution_count": null,
      "metadata": {
        "colab": {
          "base_uri": "https://localhost:8080/",
          "height": 652
        },
        "id": "lfukXJm_KMvG",
        "outputId": "19b3084c-951b-4b4b-a22a-8645427df417"
      },
      "outputs": [
        {
          "output_type": "execute_result",
          "data": {
            "text/plain": [
              "                userid         username  \\\n",
              "0            134354649          kcgt816   \n",
              "1             16439659         chancesr   \n",
              "2  1500098000609284100         FlaGolfr   \n",
              "3  1251660359766888450  philosophylinks   \n",
              "4  1305130153970929665        ManMaytag   \n",
              "\n",
              "                                            acctdesc        location  \\\n",
              "0                                                NaN         Midwest   \n",
              "1  SAG-AFTRA actor. Relentless environmentalist, ...  West Hollywood   \n",
              "2  #BlueVoices *  #ONEV1 Z27 * #DemVoice1 A * #45...             NaN   \n",
              "3  Bot retweeting interesting links from #philoso...             NaN   \n",
              "4                                   💚  Liberal  ❤️‍🔥             NaN   \n",
              "\n",
              "   following  followers  totaltweets        usercreatedts  \\\n",
              "0        649        115         3654  2010-04-18 05:22:06   \n",
              "1       2887       1437        26949  2008-09-24 19:38:52   \n",
              "2        247        111          187  2022-03-05 13:19:08   \n",
              "3          1        457       165121  2020-04-18 23:54:30   \n",
              "4       1033        427        31460  2020-09-13 13:08:30   \n",
              "\n",
              "               tweetid       tweetcreatedts  retweetcount  \\\n",
              "0  1501347677128339458  2022-03-09 00:02:34           948   \n",
              "1  1501347677606268930  2022-03-09 00:02:34            10   \n",
              "2  1501347677744689153  2022-03-09 00:02:34            16   \n",
              "3  1501347677942001665  2022-03-09 00:02:34            69   \n",
              "4  1501347679170752518  2022-03-09 00:02:35             1   \n",
              "\n",
              "                                                text  \\\n",
              "0  #Ukraine: The Ukrainian forces captured three ...   \n",
              "1  The banks, asset managers &amp; insurers finan...   \n",
              "2  Military and foreign policy experts say the \"Z...   \n",
              "3  Watch Jeremy's full speech as part of yesterda...   \n",
              "4  Disappointed Biden won’t allow Germany to acce...   \n",
              "\n",
              "                                       hashtags coordinates  favorite_count  \\\n",
              "0    [{'text': 'Ukraine', 'indices': [15, 23]}]         NaN               0   \n",
              "1                                            []         NaN               0   \n",
              "2                                            []         NaN               0   \n",
              "3  [{'text': 'Ukraine', 'indices': [102, 110]}]         NaN               0   \n",
              "4    [{'text': 'Ukraine', 'indices': [55, 63]}]         NaN               0   \n",
              "\n",
              "                  extractedts  \\\n",
              "0  2022-03-09 00:09:20.141641   \n",
              "1  2022-03-09 00:09:20.131810   \n",
              "2  2022-03-09 00:09:20.115286   \n",
              "3  2022-03-09 00:09:20.098682   \n",
              "4  2022-03-09 00:09:20.035605   \n",
              "\n",
              "                                        cleaned_text  \n",
              "0  ukrainian forces captured russian supply truck...  \n",
              "1  banks asset managers  insurers financing russi...  \n",
              "2  military foreign policy experts letter apparen...  \n",
              "3  watch jeremy speech yesterday international em...  \n",
              "4  disappointed biden won’t allow germany accept ...  "
            ],
            "text/html": [
              "\n",
              "  <div id=\"df-5b4d358c-aa30-4df8-8057-dcaa4bc29d66\">\n",
              "    <div class=\"colab-df-container\">\n",
              "      <div>\n",
              "<style scoped>\n",
              "    .dataframe tbody tr th:only-of-type {\n",
              "        vertical-align: middle;\n",
              "    }\n",
              "\n",
              "    .dataframe tbody tr th {\n",
              "        vertical-align: top;\n",
              "    }\n",
              "\n",
              "    .dataframe thead th {\n",
              "        text-align: right;\n",
              "    }\n",
              "</style>\n",
              "<table border=\"1\" class=\"dataframe\">\n",
              "  <thead>\n",
              "    <tr style=\"text-align: right;\">\n",
              "      <th></th>\n",
              "      <th>userid</th>\n",
              "      <th>username</th>\n",
              "      <th>acctdesc</th>\n",
              "      <th>location</th>\n",
              "      <th>following</th>\n",
              "      <th>followers</th>\n",
              "      <th>totaltweets</th>\n",
              "      <th>usercreatedts</th>\n",
              "      <th>tweetid</th>\n",
              "      <th>tweetcreatedts</th>\n",
              "      <th>retweetcount</th>\n",
              "      <th>text</th>\n",
              "      <th>hashtags</th>\n",
              "      <th>coordinates</th>\n",
              "      <th>favorite_count</th>\n",
              "      <th>extractedts</th>\n",
              "      <th>cleaned_text</th>\n",
              "    </tr>\n",
              "  </thead>\n",
              "  <tbody>\n",
              "    <tr>\n",
              "      <th>0</th>\n",
              "      <td>134354649</td>\n",
              "      <td>kcgt816</td>\n",
              "      <td>NaN</td>\n",
              "      <td>Midwest</td>\n",
              "      <td>649</td>\n",
              "      <td>115</td>\n",
              "      <td>3654</td>\n",
              "      <td>2010-04-18 05:22:06</td>\n",
              "      <td>1501347677128339458</td>\n",
              "      <td>2022-03-09 00:02:34</td>\n",
              "      <td>948</td>\n",
              "      <td>#Ukraine: The Ukrainian forces captured three ...</td>\n",
              "      <td>[{'text': 'Ukraine', 'indices': [15, 23]}]</td>\n",
              "      <td>NaN</td>\n",
              "      <td>0</td>\n",
              "      <td>2022-03-09 00:09:20.141641</td>\n",
              "      <td>ukrainian forces captured russian supply truck...</td>\n",
              "    </tr>\n",
              "    <tr>\n",
              "      <th>1</th>\n",
              "      <td>16439659</td>\n",
              "      <td>chancesr</td>\n",
              "      <td>SAG-AFTRA actor. Relentless environmentalist, ...</td>\n",
              "      <td>West Hollywood</td>\n",
              "      <td>2887</td>\n",
              "      <td>1437</td>\n",
              "      <td>26949</td>\n",
              "      <td>2008-09-24 19:38:52</td>\n",
              "      <td>1501347677606268930</td>\n",
              "      <td>2022-03-09 00:02:34</td>\n",
              "      <td>10</td>\n",
              "      <td>The banks, asset managers &amp;amp; insurers finan...</td>\n",
              "      <td>[]</td>\n",
              "      <td>NaN</td>\n",
              "      <td>0</td>\n",
              "      <td>2022-03-09 00:09:20.131810</td>\n",
              "      <td>banks asset managers  insurers financing russi...</td>\n",
              "    </tr>\n",
              "    <tr>\n",
              "      <th>2</th>\n",
              "      <td>1500098000609284100</td>\n",
              "      <td>FlaGolfr</td>\n",
              "      <td>#BlueVoices *  #ONEV1 Z27 * #DemVoice1 A * #45...</td>\n",
              "      <td>NaN</td>\n",
              "      <td>247</td>\n",
              "      <td>111</td>\n",
              "      <td>187</td>\n",
              "      <td>2022-03-05 13:19:08</td>\n",
              "      <td>1501347677744689153</td>\n",
              "      <td>2022-03-09 00:02:34</td>\n",
              "      <td>16</td>\n",
              "      <td>Military and foreign policy experts say the \"Z...</td>\n",
              "      <td>[]</td>\n",
              "      <td>NaN</td>\n",
              "      <td>0</td>\n",
              "      <td>2022-03-09 00:09:20.115286</td>\n",
              "      <td>military foreign policy experts letter apparen...</td>\n",
              "    </tr>\n",
              "    <tr>\n",
              "      <th>3</th>\n",
              "      <td>1251660359766888450</td>\n",
              "      <td>philosophylinks</td>\n",
              "      <td>Bot retweeting interesting links from #philoso...</td>\n",
              "      <td>NaN</td>\n",
              "      <td>1</td>\n",
              "      <td>457</td>\n",
              "      <td>165121</td>\n",
              "      <td>2020-04-18 23:54:30</td>\n",
              "      <td>1501347677942001665</td>\n",
              "      <td>2022-03-09 00:02:34</td>\n",
              "      <td>69</td>\n",
              "      <td>Watch Jeremy's full speech as part of yesterda...</td>\n",
              "      <td>[{'text': 'Ukraine', 'indices': [102, 110]}]</td>\n",
              "      <td>NaN</td>\n",
              "      <td>0</td>\n",
              "      <td>2022-03-09 00:09:20.098682</td>\n",
              "      <td>watch jeremy speech yesterday international em...</td>\n",
              "    </tr>\n",
              "    <tr>\n",
              "      <th>4</th>\n",
              "      <td>1305130153970929665</td>\n",
              "      <td>ManMaytag</td>\n",
              "      <td>💚  Liberal  ❤️‍🔥</td>\n",
              "      <td>NaN</td>\n",
              "      <td>1033</td>\n",
              "      <td>427</td>\n",
              "      <td>31460</td>\n",
              "      <td>2020-09-13 13:08:30</td>\n",
              "      <td>1501347679170752518</td>\n",
              "      <td>2022-03-09 00:02:35</td>\n",
              "      <td>1</td>\n",
              "      <td>Disappointed Biden won’t allow Germany to acce...</td>\n",
              "      <td>[{'text': 'Ukraine', 'indices': [55, 63]}]</td>\n",
              "      <td>NaN</td>\n",
              "      <td>0</td>\n",
              "      <td>2022-03-09 00:09:20.035605</td>\n",
              "      <td>disappointed biden won’t allow germany accept ...</td>\n",
              "    </tr>\n",
              "  </tbody>\n",
              "</table>\n",
              "</div>\n",
              "      <button class=\"colab-df-convert\" onclick=\"convertToInteractive('df-5b4d358c-aa30-4df8-8057-dcaa4bc29d66')\"\n",
              "              title=\"Convert this dataframe to an interactive table.\"\n",
              "              style=\"display:none;\">\n",
              "        \n",
              "  <svg xmlns=\"http://www.w3.org/2000/svg\" height=\"24px\"viewBox=\"0 0 24 24\"\n",
              "       width=\"24px\">\n",
              "    <path d=\"M0 0h24v24H0V0z\" fill=\"none\"/>\n",
              "    <path d=\"M18.56 5.44l.94 2.06.94-2.06 2.06-.94-2.06-.94-.94-2.06-.94 2.06-2.06.94zm-11 1L8.5 8.5l.94-2.06 2.06-.94-2.06-.94L8.5 2.5l-.94 2.06-2.06.94zm10 10l.94 2.06.94-2.06 2.06-.94-2.06-.94-.94-2.06-.94 2.06-2.06.94z\"/><path d=\"M17.41 7.96l-1.37-1.37c-.4-.4-.92-.59-1.43-.59-.52 0-1.04.2-1.43.59L10.3 9.45l-7.72 7.72c-.78.78-.78 2.05 0 2.83L4 21.41c.39.39.9.59 1.41.59.51 0 1.02-.2 1.41-.59l7.78-7.78 2.81-2.81c.8-.78.8-2.07 0-2.86zM5.41 20L4 18.59l7.72-7.72 1.47 1.35L5.41 20z\"/>\n",
              "  </svg>\n",
              "      </button>\n",
              "      \n",
              "  <style>\n",
              "    .colab-df-container {\n",
              "      display:flex;\n",
              "      flex-wrap:wrap;\n",
              "      gap: 12px;\n",
              "    }\n",
              "\n",
              "    .colab-df-convert {\n",
              "      background-color: #E8F0FE;\n",
              "      border: none;\n",
              "      border-radius: 50%;\n",
              "      cursor: pointer;\n",
              "      display: none;\n",
              "      fill: #1967D2;\n",
              "      height: 32px;\n",
              "      padding: 0 0 0 0;\n",
              "      width: 32px;\n",
              "    }\n",
              "\n",
              "    .colab-df-convert:hover {\n",
              "      background-color: #E2EBFA;\n",
              "      box-shadow: 0px 1px 2px rgba(60, 64, 67, 0.3), 0px 1px 3px 1px rgba(60, 64, 67, 0.15);\n",
              "      fill: #174EA6;\n",
              "    }\n",
              "\n",
              "    [theme=dark] .colab-df-convert {\n",
              "      background-color: #3B4455;\n",
              "      fill: #D2E3FC;\n",
              "    }\n",
              "\n",
              "    [theme=dark] .colab-df-convert:hover {\n",
              "      background-color: #434B5C;\n",
              "      box-shadow: 0px 1px 3px 1px rgba(0, 0, 0, 0.15);\n",
              "      filter: drop-shadow(0px 1px 2px rgba(0, 0, 0, 0.3));\n",
              "      fill: #FFFFFF;\n",
              "    }\n",
              "  </style>\n",
              "\n",
              "      <script>\n",
              "        const buttonEl =\n",
              "          document.querySelector('#df-5b4d358c-aa30-4df8-8057-dcaa4bc29d66 button.colab-df-convert');\n",
              "        buttonEl.style.display =\n",
              "          google.colab.kernel.accessAllowed ? 'block' : 'none';\n",
              "\n",
              "        async function convertToInteractive(key) {\n",
              "          const element = document.querySelector('#df-5b4d358c-aa30-4df8-8057-dcaa4bc29d66');\n",
              "          const dataTable =\n",
              "            await google.colab.kernel.invokeFunction('convertToInteractive',\n",
              "                                                     [key], {});\n",
              "          if (!dataTable) return;\n",
              "\n",
              "          const docLinkHtml = 'Like what you see? Visit the ' +\n",
              "            '<a target=\"_blank\" href=https://colab.research.google.com/notebooks/data_table.ipynb>data table notebook</a>'\n",
              "            + ' to learn more about interactive tables.';\n",
              "          element.innerHTML = '';\n",
              "          dataTable['output_type'] = 'display_data';\n",
              "          await google.colab.output.renderOutput(dataTable, element);\n",
              "          const docLink = document.createElement('div');\n",
              "          docLink.innerHTML = docLinkHtml;\n",
              "          element.appendChild(docLink);\n",
              "        }\n",
              "      </script>\n",
              "    </div>\n",
              "  </div>\n",
              "  "
            ]
          },
          "metadata": {},
          "execution_count": 7
        }
      ],
      "source": [
        "data_en.head(5)"
      ]
    },
    {
      "cell_type": "markdown",
      "metadata": {
        "id": "TNFLYy9HJh3j"
      },
      "source": [
        "# Processing and analysis with NLTK library\n",
        "https://realpython.com/python-nltk-sentiment-analysis/#installing-and-importing"
      ]
    },
    {
      "cell_type": "markdown",
      "metadata": {
        "id": "I79H0wHRUV_s"
      },
      "source": [
        "## Creating Frequency Distributions"
      ]
    },
    {
      "cell_type": "code",
      "execution_count": null,
      "metadata": {
        "id": "4DeeITvSKJAE"
      },
      "outputs": [],
      "source": [
        "textLs = data_en['cleaned_text'].values"
      ]
    },
    {
      "cell_type": "code",
      "execution_count": null,
      "metadata": {
        "colab": {
          "base_uri": "https://localhost:8080/"
        },
        "id": "L6JQaBh5UV_u",
        "outputId": "79987061-6b29-4bc4-a596-583ce76e5a14"
      },
      "outputs": [
        {
          "output_type": "stream",
          "name": "stdout",
          "text": [
            "[nltk_data] Downloading package punkt to /root/nltk_data...\n",
            "[nltk_data]   Unzipping tokenizers/punkt.zip.\n"
          ]
        }
      ],
      "source": [
        "nltk.download('punkt')\n",
        "def freq(text):\n",
        "    # tokenizes words\n",
        "    words = nltk.word_tokenize(text)\n",
        "    # lower case for all words longer than 3 chars, != amp\n",
        "    # what does amp denote? why 3 chars?\n",
        "    words=[word.lower() for word in words if word.isalpha() and not word == 'amp' and word.length()>3]\n",
        "    fd = nltk.FreqDist(words)\n",
        "    return fd"
      ]
    },
    {
      "cell_type": "code",
      "execution_count": null,
      "metadata": {
        "id": "3bpIMpW2JuTk"
      },
      "outputs": [],
      "source": [
        "# textStr = ' '.join(textLs)\n",
        "# freqLs = freq(textStr)"
      ]
    },
    {
      "cell_type": "code",
      "execution_count": null,
      "metadata": {
        "id": "8yo0ei1rK3F5"
      },
      "outputs": [],
      "source": [
        "# print(freqLs.most_common(10))\n",
        "# print(freqLs.tabulate(10))"
      ]
    },
    {
      "cell_type": "markdown",
      "metadata": {
        "id": "VoiyFL-gUV_y"
      },
      "source": [
        "## Extracting Concordance and Collocations"
      ]
    },
    {
      "cell_type": "markdown",
      "metadata": {
        "id": "CTIyBXl3UV_z"
      },
      "source": [
        "a concordance is a collection of word locations along with their context, can find  \n",
        "1. How many times a word appears\n",
        "2. Where each occurrence appears\n",
        "3. What words surround each occurrence"
      ]
    },
    {
      "cell_type": "code",
      "execution_count": null,
      "metadata": {
        "id": "8NGfnPa_UV_0"
      },
      "outputs": [],
      "source": [
        "def concordanceText(text, word, num_line=5): \n",
        "    # returns a list of ConcordanceLine objects, which contain information about where each word occurs\n",
        "    return text.concordance_list(word, num_line)"
      ]
    },
    {
      "cell_type": "markdown",
      "metadata": {
        "id": "PxvI6yQ0UV_0"
      },
      "source": [
        "Collocations are series of words that frequently appear together in a given text"
      ]
    },
    {
      "cell_type": "code",
      "execution_count": null,
      "metadata": {
        "id": "ByMIWZ9oUV_1"
      },
      "outputs": [],
      "source": [
        "def collocationFinder(text, n_word):\n",
        "    # basically finding common n-grams\n",
        "    if n_word == 2:\n",
        "        finder = nltk.collocations.BigramCollocationFinder.from_words(text)\n",
        "    elif n_word == 3:\n",
        "        finder = nltk.collocations.TrigramCollocationFinder.from_words(text)\n",
        "    elif n_word == 4:\n",
        "        finder = nltk.collocations.QuadgramCollocationFinder.from_words(text)\n",
        "    print(finder.ngram_fd.most_common(2))\n",
        "    print(finder.ngram_fd.tabulate(2))\n",
        "    return finder"
      ]
    },
    {
      "cell_type": "markdown",
      "metadata": {
        "id": "WY3wCCqNUV_2"
      },
      "source": [
        "## Using NLTK’s Sentiment Analyzer"
      ]
    },
    {
      "cell_type": "markdown",
      "metadata": {
        "id": "V6a7rzAqUV_2"
      },
      "source": [
        "### Pre-trained analyzer"
      ]
    },
    {
      "cell_type": "code",
      "execution_count": null,
      "metadata": {
        "colab": {
          "base_uri": "https://localhost:8080/"
        },
        "id": "Z3Py1l6qoScA",
        "outputId": "d71b46a6-f139-4441-fde2-5137d0847523"
      },
      "outputs": [
        {
          "output_type": "stream",
          "name": "stdout",
          "text": [
            "[nltk_data] Downloading package vader_lexicon to /root/nltk_data...\n"
          ]
        },
        {
          "output_type": "execute_result",
          "data": {
            "text/plain": [
              "True"
            ]
          },
          "metadata": {},
          "execution_count": 14
        }
      ],
      "source": [
        "nltk.download('vader_lexicon')\n",
        "# using nltk's vader implementation\n",
        "# no need training data since pre trained"
      ]
    },
    {
      "cell_type": "code",
      "execution_count": null,
      "metadata": {
        "colab": {
          "base_uri": "https://localhost:8080/"
        },
        "id": "OZ4PGcv2UV_4",
        "outputId": "d1cf1be3-c46e-4a9c-8618-161aab2df7d2"
      },
      "outputs": [
        {
          "output_type": "execute_result",
          "data": {
            "text/plain": [
              "{'compound': 0.8012, 'neg': 0.0, 'neu': 0.295, 'pos': 0.705}"
            ]
          },
          "metadata": {},
          "execution_count": 15
        }
      ],
      "source": [
        "sia = SentimentIntensityAnalyzer()\n",
        "sia.polarity_scores(\"Wow, NLTK is really powerful!\")"
      ]
    },
    {
      "cell_type": "code",
      "execution_count": null,
      "metadata": {
        "id": "eN-2CdsbUV_9"
      },
      "outputs": [],
      "source": [
        "def nltk_prediction(x):\n",
        "    try: \n",
        "        # compound polarity scores are combined/summed polarity scores of individual terms?\n",
        "        polar = sia.polarity_scores(x)\n",
        "        compound = polar[\"compound\"]\n",
        "        # consider printing the compound score to show intensity?\n",
        "        if compound > 0:\n",
        "            return 'positive', polar[\"pos\"]\n",
        "        elif compound < 0:\n",
        "            return 'negative', polar[\"neg\"]\n",
        "        return 'neutral', polar[\"neu\"]\n",
        "    except Exception:\n",
        "        print(x)\n",
        "        return \"none\", 0.00"
      ]
    },
    {
      "cell_type": "code",
      "execution_count": null,
      "metadata": {
        "colab": {
          "base_uri": "https://localhost:8080/",
          "height": 49,
          "referenced_widgets": [
            "8204536d49b747d1a3adb1d88953a231",
            "1c101454757243da9d6893267cded9f3",
            "56fd08580d424e6c8bd47ef03acc1e02",
            "5b8b81ccf92e45d3b96424ebf16bbd19",
            "63d5eda7af80449989881ce5381200bc",
            "fe1859f4e74147e184180e4df56bc1e0",
            "c795877e4afb4ecc96a1012af9ebeb09",
            "c9d01d6559b446c68b5b0b6bc731a429",
            "c820d6b8033a42e791ade120cf3401e1",
            "c4f4e5e331a943b5a64baa531eb35521",
            "f57bf856f25244bf851af8da74b9278e"
          ]
        },
        "id": "pZIU76-lUV_9",
        "outputId": "482421bd-6351-416a-94c1-afdc9215c36f"
      },
      "outputs": [
        {
          "output_type": "display_data",
          "data": {
            "text/plain": [
              "Pandas Apply:   0%|          | 0/4004608 [00:00<?, ?it/s]"
            ],
            "application/vnd.jupyter.widget-view+json": {
              "version_major": 2,
              "version_minor": 0,
              "model_id": "8204536d49b747d1a3adb1d88953a231"
            }
          },
          "metadata": {}
        }
      ],
      "source": [
        "import swifter\n",
        "# removes na rows, applies sentimental analysis to remaining rows\n",
        "data_nltk = data_en.dropna(subset=['cleaned_text'])\n",
        "data_nltk[\"sentiment\"], data_nltk[\"polarity_score\"] =  zip(*data_nltk[\"cleaned_text\"].swifter.apply(nltk_prediction))"
      ]
    },
    {
      "cell_type": "code",
      "execution_count": null,
      "metadata": {
        "colab": {
          "base_uri": "https://localhost:8080/"
        },
        "id": "3h_MACgfooGe",
        "outputId": "2069c276-5f2b-4ed6-b437-146f5f58d76a"
      },
      "outputs": [
        {
          "output_type": "stream",
          "name": "stdout",
          "text": [
            "text: URGENT! An owner of a pet hotel in #Kiev was left with 67 cats/dogs who’s owners never returned. She will NOT abandon them. We urgently need a rescue back up at either the #Romania or #Poland border with #Ukraine. Transport is not yet 100% confirmed. #UkraineRussianWar #Rescue https://t.co/F5zrHMOZch\n",
            "sentiment: positive \n",
            "---------------\n",
            "text: The People's Convoy was a protest about what? Was it about #freedumb?\n",
            "\n",
            "Shouldn't the #TruckersGoHome? Its #dumb! Pandemic restrictions are being lifted. #SCOTUS has ruled against vaccine mandates.\n",
            "\n",
            "#TruckersConvoy2022\n",
            "#Truckersforfreedomconvoy2022 \n",
            "#StandWithUkraine \n",
            "\n",
            "#DemVoice1 https://t.co/zv3auUTUDZ\n",
            "sentiment: negative \n",
            "---------------\n",
            "text: Great to see @Starbucks and @McDonalds close in Russia.\n",
            "\n",
            "#StandwithUkraine https://t.co/4csexBTXMm\n",
            "sentiment: positive \n",
            "---------------\n",
            "text: Leonardo DiCaprio donated $10M to support Ukraine…here he is with his grandmother that was born in Odessa, Ukraine https://t.co/ETqkJ0d9gF\n",
            "\n",
            "#StandWithUkraine https://t.co/WdT3Th52hW\n",
            "sentiment: positive \n",
            "---------------\n",
            "text: Buy while it's hot\n",
            "\n",
            "After McDonald's announcement that they were leaving #Russia, people have already started selling their supplies on Internet. https://t.co/DtoWbuZ1If\n",
            "sentiment: neutral \n",
            "---------------\n"
          ]
        }
      ],
      "source": [
        "# prints random sample of results\n",
        "# seems fairly accurate except for the first tweet\n",
        "for i in range(300,305):\n",
        "    print(\"text:\",data_nltk.iloc[i]['text'])\n",
        "    print(\"sentiment:\",data_nltk.iloc[i]['sentiment'],\"\\n---------------\")"
      ]
    },
    {
      "cell_type": "code",
      "execution_count": null,
      "metadata": {
        "colab": {
          "base_uri": "https://localhost:8080/",
          "height": 266
        },
        "id": "vgdD91_jp0hQ",
        "outputId": "9af6c9ee-acb4-4eb9-e9c1-405ac8f756be"
      },
      "outputs": [
        {
          "output_type": "execute_result",
          "data": {
            "text/plain": [
              "<matplotlib.axes._subplots.AxesSubplot at 0x7fb58a14b310>"
            ]
          },
          "metadata": {},
          "execution_count": 19
        },
        {
          "output_type": "display_data",
          "data": {
            "text/plain": [
              "<Figure size 432x288 with 1 Axes>"
            ],
            "image/png": "[encoded data removed]"
          },
          "metadata": {}
        }
      ],
      "source": [
        "# groups by sentiment and displays relative proportions\n",
        "# tweets are mostly negative, but attitudes towards russia/ukraine cannot be determined\n",
        "data_nltk.groupby(['sentiment']).sum().plot(kind='pie', y=\"tweetid\", autopct='%1.1f%%', startangle=270, fontsize=17)"
      ]
    },
    {
      "cell_type": "code",
      "execution_count": null,
      "metadata": {
        "id": "ArsEtDPYpvZK"
      },
      "outputs": [],
      "source": [
        "# writes results of nltk to csv\n",
        "filename = 'nltk_227-311.csv.zip'\n",
        "data_nltk.to_csv(os.path.join(path, filename),compression=\"zip\",index=False)"
      ]
    },
    {
      "cell_type": "markdown",
      "metadata": {
        "id": "YAjPk3RoUV__"
      },
      "source": [
        "### Customizing NLTK’s Sentiment Analysis"
      ]
    },
    {
      "cell_type": "markdown",
      "metadata": {
        "id": "tSC0iV7LUWAD"
      },
      "source": [
        "#### Selecting Useful Features"
      ]
    },
    {
      "cell_type": "markdown",
      "metadata": {
        "id": "6B9Pyup9UWAG"
      },
      "source": [
        "e.g. Select frequent positive and negative words from tagged reviews"
      ]
    },
    {
      "cell_type": "code",
      "execution_count": null,
      "metadata": {
        "colab": {
          "base_uri": "https://localhost:8080/"
        },
        "id": "kFYIn732UWAG",
        "outputId": "c65ae5f8-c6e8-44ca-acf6-6d3d7bf3bf40"
      },
      "outputs": [
        {
          "output_type": "stream",
          "name": "stdout",
          "text": [
            "[nltk_data] Downloading package stopwords to /root/nltk_data...\n",
            "[nltk_data]   Unzipping corpora/stopwords.zip.\n",
            "[nltk_data] Downloading package names to /root/nltk_data...\n",
            "[nltk_data]   Unzipping corpora/names.zip.\n",
            "[nltk_data] Downloading package movie_reviews to /root/nltk_data...\n",
            "[nltk_data]   Unzipping corpora/movie_reviews.zip.\n",
            "[nltk_data] Downloading package averaged_perceptron_tagger to\n",
            "[nltk_data]     /root/nltk_data...\n",
            "[nltk_data]   Unzipping taggers/averaged_perceptron_tagger.zip.\n"
          ]
        }
      ],
      "source": [
        "nltk.download('stopwords')\n",
        "nltk.download('names')\n",
        "nltk.download('movie_reviews')\n",
        "nltk.download('averaged_perceptron_tagger')\n",
        "\n",
        "# useful data: positive, negative words from tagged reviews\n",
        "\n",
        "# define unwanted words as stopwords and names\n",
        "unwanted = nltk.corpus.stopwords.words(\"english\")\n",
        "unwanted.extend([w.lower() for w in nltk.corpus.names.words()])\n",
        "\n",
        "# function to filter unwanted words, returns false for words to skip, otherwise true\n",
        "def skip_unwanted(pos_tuple):\n",
        "    word, tag = pos_tuple\n",
        "    if not word.isalpha() or word in unwanted:\n",
        "        return False\n",
        "    # NN is the default POS tag, not informative so should skip\n",
        "    if tag.startswith(\"NN\"):\n",
        "        return False\n",
        "    return True\n",
        "\n",
        "# gets positive and negative words from pos, neg categories after filtering unwanted words\n",
        "positive_words = [word for word, tag in filter(\n",
        "    skip_unwanted,\n",
        "    nltk.pos_tag(nltk.corpus.movie_reviews.words(categories=[\"pos\"])))]\n",
        "negative_words = [word for word, tag in filter(\n",
        "    skip_unwanted,\n",
        "    nltk.pos_tag(nltk.corpus.movie_reviews.words(categories=[\"neg\"]))\n",
        ")]\n",
        "\n",
        "# freq dist\n",
        "positive_fd = nltk.FreqDist(positive_words)\n",
        "negative_fd = nltk.FreqDist(negative_words)\n",
        "\n",
        "# removes common words in positive and negative sets\n",
        "common_set = set(positive_fd).intersection(negative_fd)\n",
        "\n",
        "for word in common_set:\n",
        "    del positive_fd[word]\n",
        "    del negative_fd[word]\n",
        "\n",
        "# displays top 100 pos, neg words\n",
        "top_100_positive = {word for word, count in positive_fd.most_common(100)}\n",
        "top_100_negative = {word for word, count in negative_fd.most_common(100)}"
      ]
    },
    {
      "cell_type": "markdown",
      "metadata": {
        "id": "HMIfw02GUWAH"
      },
      "source": [
        "e.g. Build bigram finders from tagged reviews"
      ]
    },
    {
      "cell_type": "code",
      "execution_count": null,
      "metadata": {
        "id": "yFDYUCKyUWAK"
      },
      "outputs": [],
      "source": [
        "# useful data: pos, neg bigrams from tagged reviews\n",
        "# defines unwanted words as stopwords + names\n",
        "unwanted = nltk.corpus.stopwords.words(\"english\")\n",
        "unwanted.extend([w.lower() for w in nltk.corpus.names.words()])\n",
        "\n",
        "# collocations are n-grams\n",
        "# gets pos, neg bigrams from movie reviews, filters for unwanted words\n",
        "positive_bigram_finder = nltk.collocations.BigramCollocationFinder.from_words([\n",
        "    w for w in nltk.corpus.movie_reviews.words(categories=[\"pos\"])\n",
        "    if w.isalpha() and w not in unwanted\n",
        "])\n",
        "negative_bigram_finder = nltk.collocations.BigramCollocationFinder.from_words([\n",
        "    w for w in nltk.corpus.movie_reviews.words(categories=[\"neg\"])\n",
        "    if w.isalpha() and w not in unwanted\n",
        "])"
      ]
    },
    {
      "cell_type": "markdown",
      "metadata": {
        "id": "HwZAO39fUWAL"
      },
      "source": [
        "#### Training and Using a Classifier"
      ]
    },
    {
      "cell_type": "markdown",
      "metadata": {
        "id": "Ni4aKhUMUWAL"
      },
      "source": [
        "return a dictionary, and it will create three features for each piece of text:  \n",
        "1. The average compound score\n",
        "2. The average positive score\n",
        "3. The amount of words in the text that are also part of the top 100 words in all positive reviews"
      ]
    },
    {
      "cell_type": "code",
      "execution_count": null,
      "metadata": {
        "id": "xNKWtIdVUWAP"
      },
      "outputs": [],
      "source": [
        "from statistics import mean\n",
        "def extract_features(text):\n",
        "    # features for each text (handcrafted):\n",
        "    # average compound score of a sentence\n",
        "    # average positive score of a sentence\n",
        "    # percentage of words in text that are top 100 positive words\n",
        "    features = dict()\n",
        "    wordcount = 0\n",
        "    compound_scores = list()\n",
        "    positive_scores = list()\n",
        "\n",
        "    for sentence in nltk.sent_tokenize(text):\n",
        "        for word in nltk.word_tokenize(sentence):\n",
        "            if word.lower() in top_100_positive:\n",
        "                wordcount += 1\n",
        "        compound_scores.append(sia.polarity_scores(sentence)[\"compound\"])\n",
        "        positive_scores.append(sia.polarity_scores(sentence)[\"pos\"])\n",
        "\n",
        "    # Adding 1 to the final compound score to always have positive numbers\n",
        "    # since some classifiers you'll use later don't work with negative numbers.\n",
        "    try:\n",
        "      features[\"mean_compound\"] = mean(compound_scores) + 1\n",
        "      features[\"mean_positive\"] = mean(positive_scores)\n",
        "      features[\"wordcount\"] = wordcount\n",
        "    except:\n",
        "      features[\"mean_compound\"] = 1\n",
        "      features[\"mean_positive\"] = 0\n",
        "      features[\"wordcount\"] = wordcount\n",
        "\n",
        "    return features"
      ]
    },
    {
      "cell_type": "code",
      "execution_count": null,
      "metadata": {
        "id": "7bZHqiG9UWAS"
      },
      "outputs": [],
      "source": [
        "# positive and negative features\n",
        "features = [\n",
        "    # get features for each positive review\n",
        "    (extract_features(nltk.corpus.movie_reviews.raw(review)), \"pos\")\n",
        "    for review in nltk.corpus.movie_reviews.fileids(categories=[\"pos\"])\n",
        "]\n",
        "features.extend([\n",
        "    # features are focused on positive words, but we also use them on negative texts\n",
        "    (extract_features(nltk.corpus.movie_reviews.raw(review)), \"neg\")\n",
        "    for review in nltk.corpus.movie_reviews.fileids(categories=[\"neg\"])\n",
        "])"
      ]
    },
    {
      "cell_type": "markdown",
      "metadata": {
        "id": "UX0v4-0CUWAT"
      },
      "source": [
        "train the classifier"
      ]
    },
    {
      "cell_type": "code",
      "execution_count": null,
      "metadata": {
        "colab": {
          "base_uri": "https://localhost:8080/"
        },
        "id": "JgQuBJntUWAV",
        "outputId": "ec7c54a1-f71b-461f-e0df-1a740ff0f722"
      },
      "outputs": [
        {
          "output_type": "stream",
          "name": "stdout",
          "text": [
            "Most Informative Features\n",
            "               wordcount = 2                 pos : neg    =      6.8 : 1.0\n",
            "               wordcount = 3                 pos : neg    =      5.5 : 1.0\n",
            "               wordcount = 4                 pos : neg    =      5.1 : 1.0\n",
            "               wordcount = 0                 neg : pos    =      1.8 : 1.0\n",
            "               wordcount = 1                 pos : neg    =      1.4 : 1.0\n",
            "           mean_positive = 0.08418181818181818    pos : neg    =      1.0 : 1.0\n"
          ]
        }
      ],
      "source": [
        "# using nltk naive bayes\n",
        "# using first 25% features (movie reviews) as training data\n",
        "\n",
        "train_count = len(features) // 4\n",
        "shuffle(features) # no need to shuffle data? this line was not here originally\n",
        "classifier = nltk.NaiveBayesClassifier.train(features[:train_count])\n",
        "classifier.show_most_informative_features(10)"
      ]
    },
    {
      "cell_type": "code",
      "execution_count": null,
      "metadata": {
        "colab": {
          "base_uri": "https://localhost:8080/"
        },
        "id": "3gEpY1lKUWAW",
        "outputId": "0789e4ef-fdd6-4a5a-cc58-b66da1878684"
      },
      "outputs": [
        {
          "output_type": "execute_result",
          "data": {
            "text/plain": [
              "0.658"
            ]
          },
          "metadata": {},
          "execution_count": 26
        }
      ],
      "source": [
        "# shuffling data greatly increases accuracy, accuracy without shuffling is about 0.3\n",
        "nltk.classify.accuracy(classifier, features[train_count:])"
      ]
    },
    {
      "cell_type": "markdown",
      "metadata": {
        "id": "xDucZGVeUWAY"
      },
      "source": [
        "### Comparing Additional Classifiers"
      ]
    },
    {
      "cell_type": "code",
      "execution_count": null,
      "metadata": {
        "id": "CTmKsLoEUWAa"
      },
      "outputs": [],
      "source": [
        "from sklearn.naive_bayes import (\n",
        "    BernoulliNB,\n",
        "    ComplementNB,\n",
        "    MultinomialNB,\n",
        ")\n",
        "from sklearn.neighbors import KNeighborsClassifier\n",
        "from sklearn.tree import DecisionTreeClassifier\n",
        "from sklearn.ensemble import RandomForestClassifier, AdaBoostClassifier\n",
        "from sklearn.linear_model import LogisticRegression\n",
        "from sklearn.neural_network import MLPClassifier\n",
        "from sklearn.discriminant_analysis import QuadraticDiscriminantAnalysis\n",
        "import nltk"
      ]
    },
    {
      "cell_type": "code",
      "execution_count": null,
      "metadata": {
        "id": "scFwX0IjUWAd"
      },
      "outputs": [],
      "source": [
        "# classifiers to be tested\n",
        "classifiers = {\n",
        "    \"BernoulliNB\": BernoulliNB(),\n",
        "    \"ComplementNB\": ComplementNB(),\n",
        "    \"MultinomialNB\": MultinomialNB(),\n",
        "    \"KNeighborsClassifier\": KNeighborsClassifier(),\n",
        "    \"DecisionTreeClassifier\": DecisionTreeClassifier(),\n",
        "    \"RandomForestClassifier\": RandomForestClassifier(),\n",
        "    \"LogisticRegression\": LogisticRegression(),\n",
        "    \"MLPClassifier\": MLPClassifier(max_iter=1000),\n",
        "    \"AdaBoostClassifier\": AdaBoostClassifier(),\n",
        "}"
      ]
    },
    {
      "cell_type": "code",
      "execution_count": null,
      "metadata": {
        "id": "BxBltkB6UWAl"
      },
      "outputs": [],
      "source": [
        "# extract features for positive and negative reviews\n",
        "features = [\n",
        "    (extract_features(nltk.corpus.movie_reviews.raw(review)), \"pos\")\n",
        "    for review in nltk.corpus.movie_reviews.fileids(categories=[\"pos\"])\n",
        "]\n",
        "features.extend([\n",
        "    (extract_features(nltk.corpus.movie_reviews.raw(review)), \"neg\")\n",
        "    for review in nltk.corpus.movie_reviews.fileids(categories=[\"neg\"])\n",
        "])"
      ]
    },
    {
      "cell_type": "code",
      "execution_count": null,
      "metadata": {
        "colab": {
          "base_uri": "https://localhost:8080/"
        },
        "id": "a3p9AQWpUWBx",
        "outputId": "b9555bba-cc3b-48ff-ba77-0d46f56b2fdd"
      },
      "outputs": [
        {
          "output_type": "stream",
          "name": "stdout",
          "text": [
            "67.27% - BernoulliNB\n",
            "67.27% - ComplementNB\n",
            "67.27% - MultinomialNB\n",
            "67.87% - KNeighborsClassifier\n",
            "62.47% - DecisionTreeClassifier\n",
            "68.93% - RandomForestClassifier\n",
            "73.07% - LogisticRegression\n",
            "73.00% - MLPClassifier\n",
            "71.00% - AdaBoostClassifier\n"
          ]
        }
      ],
      "source": [
        "# use first 25% of data as training data\n",
        "train_count = len(features) // 4\n",
        "# shuffle dataset before training\n",
        "shuffle(features)\n",
        "\n",
        "# train and test each classifier: MLP (perceptron) seems to have the best performance\n",
        "for name, sklearn_classifier in classifiers.items():\n",
        "    classifiers[name] = nltk.classify.SklearnClassifier(sklearn_classifier)\n",
        "    classifiers[name].train(features[:train_count])\n",
        "    accuracy = nltk.classify.accuracy(classifiers[name], features[train_count:])\n",
        "    print(F\"{accuracy:.2%} - {name}\")"
      ]
    },
    {
      "cell_type": "code",
      "execution_count": null,
      "metadata": {
        "colab": {
          "base_uri": "https://localhost:8080/"
        },
        "id": "Q2la3PrWgorV",
        "outputId": "db724675-c7c2-487c-ca3e-1c9ea07a6c4f"
      },
      "outputs": [
        {
          "output_type": "stream",
          "name": "stdout",
          "text": [
            "0.6365\n"
          ]
        }
      ],
      "source": [
        "# using vader on movie review dataset\n",
        "predictions = [nltk_prediction(nltk.corpus.movie_reviews.raw(review))[0] for review in nltk.corpus.movie_reviews.fileids(categories=[\"pos\"])]\n",
        "predictions.extend([nltk_prediction(nltk.corpus.movie_reviews.raw(review))[0] for review in nltk.corpus.movie_reviews.fileids(categories=[\"neg\"])])\n",
        "predictions = [1 if x == 'positive' else 0 for x in predictions]\n",
        "import sklearn\n",
        "print(sklearn.metrics.accuracy_score(([1] * 1000) + ([0] * 1000), predictions))\n"
      ]
    },
    {
      "cell_type": "code",
      "execution_count": null,
      "metadata": {
        "colab": {
          "base_uri": "https://localhost:8080/",
          "height": 270,
          "referenced_widgets": [
            "b5cdc625324c459faab498b6ad4d2592",
            "b6b9fcbc024a424c953138b2046e3f87",
            "f1a39e02581f4ec1965d1fe5957d5fca",
            "ee7bd44bf0ea45238939792c064bff54",
            "6afac690d5cf42d7874bada10e064be3",
            "405fa030d5624409ad882f310ba95070",
            "b818d0b0f6d64f268426da5f1ed81df3",
            "7fbee6fc8c54496e879006f25e76647f",
            "831d9b4f32614092a6884bd1addb50b0",
            "c89a60997355445f9f5bcf0bc2971553",
            "c85a6b5e5578472cafed65567958e544"
          ]
        },
        "id": "7_yPBm6YycFp",
        "outputId": "f89db621-608c-4c16-b159-196688c1d771"
      },
      "outputs": [
        {
          "output_type": "display_data",
          "data": {
            "text/plain": [
              "Pandas Apply:   0%|          | 0/4004608 [00:00<?, ?it/s]"
            ],
            "application/vnd.jupyter.widget-view+json": {
              "version_major": 2,
              "version_minor": 0,
              "model_id": "b5cdc625324c459faab498b6ad4d2592"
            }
          },
          "metadata": {}
        },
        {
          "output_type": "execute_result",
          "data": {
            "text/plain": [
              "0          {'mean_compound': 1.0, 'mean_positive': 0.0, '...\n",
              "1          {'mean_compound': 0.40059999999999996, 'mean_p...\n",
              "2          {'mean_compound': 0.22829999999999995, 'mean_p...\n",
              "3          {'mean_compound': 0.24209999999999998, 'mean_p...\n",
              "4          {'mean_compound': 0.1874, 'mean_positive': 0.1...\n",
              "                                 ...                        \n",
              "4004705    {'mean_compound': 1.0, 'mean_positive': 0.0, '...\n",
              "4004706    {'mean_compound': 1.4019, 'mean_positive': 0.2...\n",
              "4004707    {'mean_compound': 1.6705, 'mean_positive': 0.3...\n",
              "4004708    {'mean_compound': 1.0, 'mean_positive': 0.0, '...\n",
              "4004709    {'mean_compound': 0.6388, 'mean_positive': 0.0...\n",
              "Name: features, Length: 4004608, dtype: object"
            ]
          },
          "metadata": {},
          "execution_count": 32
        }
      ],
      "source": [
        "data_nltk = data_en.dropna(subset=['cleaned_text'])\n",
        "\n",
        "# data_nltk[\"sentiment\"], data_nltk[\"polarity_score\"] =  zip(*data_nltk[\"cleaned_text\"].swifter.apply(nltk_prediction))\n",
        "data_nltk[\"features\"] =  data_nltk[\"cleaned_text\"].swifter.apply(extract_features)\n",
        "\n",
        "data_nltk[\"features\"]\n"
      ]
    },
    {
      "cell_type": "code",
      "execution_count": null,
      "metadata": {
        "colab": {
          "base_uri": "https://localhost:8080/",
          "height": 49,
          "referenced_widgets": [
            "be67f7e38b4a48d6be36a58d6ed837e2",
            "f7275eb5f7b740debb622b58d44f1f35",
            "d971ade8e6664fef88698b68e8a80c0f",
            "2cf7b8ac100e4c2cb60b83b9ade39b9a",
            "4d22993b77f942028390e735188e80a5",
            "acf09bacf2c44867a3566acbba671e54",
            "9a673b2927f447758309e777b0e23c7e",
            "537f672fb01a45a8b4f8435ab000dfc5",
            "73d1d82d6aa14f9db42b44ce6c3ea6fb",
            "51cd0d06e7c0426e9376daedf96b85f1",
            "bb117ac7518c4ab5a208b43c31ed41aa"
          ]
        },
        "id": "BUNAkKVfNQIJ",
        "outputId": "72ccc37f-de90-4ee3-a738-008d81c75d9a"
      },
      "outputs": [
        {
          "output_type": "display_data",
          "data": {
            "text/plain": [
              "Pandas Apply:   0%|          | 0/4004608 [00:00<?, ?it/s]"
            ],
            "application/vnd.jupyter.widget-view+json": {
              "version_major": 2,
              "version_minor": 0,
              "model_id": "be67f7e38b4a48d6be36a58d6ed837e2"
            }
          },
          "metadata": {}
        }
      ],
      "source": [
        "data_nltk[\"sentiment\"] = data_nltk[\"features\"].swifter.apply(classifiers[\"MLPClassifier\"].classify)\n",
        "# data_nltk[\"sentiment\"]\n"
      ]
    },
    {
      "cell_type": "code",
      "source": [
        "data_nltk.groupby(['sentiment']).sum().plot(kind='pie', y=\"tweetid\", autopct='%1.1f%%', startangle=270, fontsize=17)"
      ],
      "metadata": {
        "colab": {
          "base_uri": "https://localhost:8080/",
          "height": 266
        },
        "id": "9apqHfjfubdH",
        "outputId": "28be9f63-3c77-4e8b-d779-810bc196960a"
      },
      "execution_count": null,
      "outputs": [
        {
          "output_type": "execute_result",
          "data": {
            "text/plain": [
              "<matplotlib.axes._subplots.AxesSubplot at 0x7fb59d678ed0>"
            ]
          },
          "metadata": {},
          "execution_count": 46
        },
        {
          "output_type": "display_data",
          "data": {
            "text/plain": [
              "<Figure size 432x288 with 1 Axes>"
            ],
            "image/png": "[encoded data removed]"
          },
          "metadata": {}
        }
      ]
    },
    {
      "cell_type": "code",
      "source": [
        "for i in range(200,400):\n",
        "    print(\"text:\",data_nltk.iloc[i]['text'])\n",
        "    print(\"sentiment:\",data_nltk.iloc[i]['sentiment'],\"\\n---------------\")"
      ],
      "metadata": {
        "colab": {
          "base_uri": "https://localhost:8080/"
        },
        "id": "CCPsu1qO2YPt",
        "outputId": "47d231a1-8895-4945-d8f4-a64230484151"
      },
      "execution_count": null,
      "outputs": [
        {
          "output_type": "stream",
          "name": "stdout",
          "text": [
            "text: #BreakingNews:\n",
            "#Europe/an officials said they will NOT follow the #US steps in imposing sanctions on #Russia more than what they have already established.\n",
            "\n",
            "In other words: We shot ourselves enough in the foot. No more place for another bullet &amp; we have accommodated enough the US.\n",
            "sentiment: neg \n",
            "---------------\n",
            "text: Be an ape:\n",
            "\n",
            "collectively fund war efforts and (comedian) criminals who immediately turn around and dump on apes and be proud of themselves.\n",
            "\n",
            "#braindead #NFT #Ukraine https://t.co/UFaGTaQ31v\n",
            "sentiment: neg \n",
            "---------------\n",
            "text: A German multi-billionaire has rented three hotels at the  Polish-German border for three+ months for #Ukraine refugees, turning meeting rooms into playrooms for children &amp; kindergarten teachers. Kitchens will provide a breakfast &amp; dinner buffet. Will likely cost him $5 million️\n",
            "sentiment: neg \n",
            "---------------\n",
            "text: How long will Americans poll at 70% for higher #gas ⛽️ in the name of #UkraineRussianWar ? I say keep it going as long as the vulnerable are taken care of.\n",
            "sentiment: pos \n",
            "---------------\n",
            "text: A quick dig surfaces that Elena Branson, just charged by @SDNYnews for acting as an illegal agent of #Russia has an... interesting  footprint.\n",
            "\n",
            "Sources: \n",
            "@MSnegovaya (2017)\n",
            "https://t.co/2tfe8m5rNL\n",
            "@magnitsky (2020) https://t.co/RUvlWwShr2 https://t.co/sYxhQvHZqO\n",
            "sentiment: neg \n",
            "---------------\n",
            "text: The Kremlin's mouthpieces on #Russia's state TV are totally obsessed with Zelensky and his whereabouts. Their ill intent is chilling. https://t.co/helfKpS2gQ\n",
            "sentiment: neg \n",
            "---------------\n",
            "text: Chinese state media are embedding reporters in Russian Army invading Mariupol helping Russian propaganda😡😡😡\n",
            "Sneaky betrayal…\n",
            "#StandWithUkraine #StopRussianAggression #UkraineRussianWar #china https://t.co/Act07mA6MQ\n",
            "sentiment: neg \n",
            "---------------\n",
            "text: #Russia'n armored train arrived in Melitopol (from #Crimea) https://t.co/71DSxQIfxZ\n",
            "sentiment: neg \n",
            "---------------\n",
            "text: @ZelenskyyUa @EmmanuelMacron President Volodymyr Zelenskyy has shown himself to be not just a Ukrainian hero, but a hero for the whole world\n",
            "\n",
            "A beacon of light in a time of darkness\n",
            "\n",
            "#StandWithUkraine 🇺🇦💙💛🌻\n",
            "#UkraineUnderAttack https://t.co/FD5Xnzr6Wa\n",
            "sentiment: pos \n",
            "---------------\n",
            "text: An Open Letter to the Global Media by Olena Zelenska.\n",
            "Recently, an overwhelming number of media outlets from around the world have reached out with requests for interviews. This letter serves as answer to these requests and is testimony from #Ukraine. https://t.co/lAQ8zb8Rnc https://t.co/COtsJZaWc9\n",
            "sentiment: pos \n",
            "---------------\n",
            "text: Russian military communications... #Anonymous #Ukraine #Ukraine #Russia https://t.co/Y7rgX9YfrI\n",
            "sentiment: neg \n",
            "---------------\n",
            "text: In Novosibirsk, Russia, local residents are marching in protest against the Russian invasion of #Ukraine:\n",
            "https://t.co/1bMHOIpuG9 01\n",
            "sentiment: neg \n",
            "---------------\n",
            "text: There are no chances to defeat Ukrainians in Grusna !!!\n",
            " Glory to Ukraine and its Soldiers! 🇺🇦 #Ukraine #Belarus #Kharkiv #Batman #UkraineRussiaWar #UkraineRussiaWar #Putin #Ukrainian #UkraineArmy #UkraineUnderAttack #UkraineInvasion https://t.co/Np4V1IuhvO\n",
            "sentiment: pos \n",
            "---------------\n",
            "text: Little girl singing \"Let it go\" in a shelter\n",
            "\n",
            "#UkraineRussianWar #Ukraine #UkraineUnderAttack https://t.co/6gfcUoiwJJ\n",
            "sentiment: neg \n",
            "---------------\n",
            "text: Two weeks into Europe’s worst war in 75 years and #FoxNews still can’t spell the name of #Ukraine’s president: https://t.co/Uk8N8p4y8a\n",
            "sentiment: neg \n",
            "---------------\n",
            "text: Aligning w/ #EU🇪🇺 at #UNSC on #WPS; need for #peace we all, but particularly #women/children long for 2day #March8; condemning Russia's aggression against #Ukraine🇺🇦 drawing parallels w/ #Georgia🇬🇪 2008+ongoing #occupation. Calling on #Russia🇷🇺 to withdraw military &amp;  #StopTheWar https://t.co/pXEHGxsdPm\n",
            "sentiment: neg \n",
            "---------------\n",
            "text: @MayoIsSpicyy @MrsPLH #FoxNews #Trump  #PropagandaMachine. Today #TrumpCronies at the #Pentagon speaking out of turn over #POTUS is another example of propaganda! These people should be fired ! #Trump media is a failure but people still show such disrespect too #America and the #genocide in #Ukraine🇺🇦\n",
            "sentiment: neg \n",
            "---------------\n",
            "text: A German multi-billionaire has rented three hotels at the  Polish-German border for three+ months for #Ukraine refugees, turning meeting rooms into playrooms for children &amp; kindergarten teachers. Kitchens will provide a breakfast &amp; dinner buffet. Will likely cost him $5 million️\n",
            "sentiment: neg \n",
            "---------------\n",
            "text: Retired British General Chris Deverell has said No Fly Zone should be implemented over Ukraine because it is not if NATO fights Putin but when. #NATO #Ukraine #StandWithUkraine #StopPutin #NoFlyZoneOverUkraineNow https://t.co/TZBwLkKbRo\n",
            "sentiment: neg \n",
            "---------------\n",
            "text: To provide bulletproof vests, helmets and etc. for Ukraine, JSDF is loading them onto KC-767. This kind of mission is the first case for us, but we will do our utmost to swiftly deliver them to #Ukraine.\n",
            "For #Ukraine. https://t.co/qwg2m3LEW8\n",
            "sentiment: pos \n",
            "---------------\n",
            "text: #BREAKING #Ukraine  🚨👇\n",
            "@UN Security Council on Women Security Council meeting ~ Ukraine's speaker late Tuesday was Natalia Mudrenko, her voice cracking as she tells of the death of children and their mothers @SergiyKyslytsya @UKRinUN @CBSNews / UnitedNations https://t.co/TxeOsRIUpV\n",
            "sentiment: neg \n",
            "---------------\n",
            "text: The #Ukraine cabinet have announced a 'war-time economy' &amp; one off payments to those who lost employment (h/t @CarolineCoramUK)\n",
            "\n",
            "It is however linked to 'vaccination status' &amp; the 'Ministry for Digital Transformation' are expected to announce further details soon. https://t.co/W2NK7gg2NY\n",
            "sentiment: neg \n",
            "---------------\n",
            "text: 12 days ago this family had a home and happy life. 10 days ago their house was destroyed as a result of bombardment in central #Kharkiv. Now Alyona and her 12 y.o. daughter Nastya live in the metro. The meagre possessions on the photo are everything that they have. #ukraine 1/ https://t.co/ktiXpPAXwq\n",
            "sentiment: neg \n",
            "---------------\n",
            "text: The conflict in #Ukraine is a collateral damage of a massive #US-#Russia crisis that has been brewing for years. Now that the conflict penetrates every political, economic and social level regionally and globally, it’s important to see what comes next. LONGISH THREAD. https://t.co/g62ciFJj0S\n",
            "sentiment: neg \n",
            "---------------\n",
            "text: A Reminder…\n",
            "#Ukraine #UkraineWar #UkraineUnderAttack #StopWar #UkraineRussiaWar #UkraineInvasion #RussianUkrainianWar https://t.co/wfM508qHww\n",
            "sentiment: neg \n",
            "---------------\n",
            "text: From the Estonian Prime Minister.  Good stuff.\n",
            "@ZelenskyyUa @BorisJohnson @kajakallas @MorawieckiM #Ukraine️ #sanctions against #Russia https://t.co/2lnSas6SfT\n",
            "sentiment: pos \n",
            "---------------\n",
            "text: Poland -Ukraine Border \n",
            "\n",
            "The spirit of humanity 💪🏼✌🏽\n",
            "\n",
            "#Ukraine #UkraineRussianWar #KhalsaAid https://t.co/UVWGugogDP\n",
            "sentiment: pos \n",
            "---------------\n",
            "text: @RandPaul &gt;Would you be so kind to request #NATO AUDIT\n",
            "to determine if #Ukraine President not a general\n",
            "is advised or overpowered to massacre #Ukrainians to BLAME #Russia \n",
            "that OBVIOUSLY have no interest in killing RUSSIANS what Ukrainians are\n",
            "following 8 years of diabolization😶 https://t.co/I4Nn1D4HfE\n",
            "sentiment: neg \n",
            "---------------\n",
            "text: Russia vs Ukraine War Update: 18+ It's like horror movie but sadly it's real life. Raw video of dead Russian soldiers along the road and in the bushes. #Ukraine #Russia #UkraineRussiaConflict #russiansoldiers https://t.co/fmY8cpFvL3\n",
            "sentiment: neg \n",
            "---------------\n",
            "text: It is very worrying that #Belarus facilitates Russia's war on #Ukraine. I spoke with opposition leader Svetlana @Tsihanouskaya. She is incredibly brave and I deeply respect that she continues to give the Belarusian people hope &amp; a voice. A privilege to meet her this #IWD2022 1/2 https://t.co/CTs4yJOCE7\n",
            "sentiment: pos \n",
            "---------------\n",
            "text: C$21.74 - #FreeShipping | Limited Quantities Available  Shacke Pak - 5 Set Packing Cubes - Travel #Shacke       👉 https://t.co/tEzixAOZ5q       #sharious  #canadianbestseller  #canada #usa #product #Cubes  #Laundry  #Organizers  #Packing  #Shacke . https://t.co/rEjhYCBJP0\n",
            "sentiment: neg \n",
            "---------------\n",
            "text: According to health experts, companies such as #Pfizer, have excluded from their reports people who developed autoimmune diseases due to their #vaccination. 8.5 percent, including children, will experience long-term side effects and an increased risk of death.#Ukraine #COVID https://t.co/RRP7wbz6UR\n",
            "sentiment: neg \n",
            "---------------\n",
            "text: VIDEO from #Moscow tonight at a McDonalds drive through after the fast food chain said it was pulling out of #Russia. The line of cars stretched almost a half mile. #Ukraine #UkraineRussiaWar #Russia #Putin #UkraineInvasion #Russians https://t.co/i9Ftd3X7HG\n",
            "sentiment: neg \n",
            "---------------\n",
            "text: UN refugee agency says 1.7M refugees have now fled #Ukraine\n",
            "British government says it’s let in 300. \n",
            "Or: 0.017% of the total \n",
            "#worldbeating\n",
            "sentiment: neg \n",
            "---------------\n",
            "text: 💥BUSTED💥 If this is true, then Putin already justified his invasion 👉 U.S. Under Secretary of State Victoria Nuland at the congressional hearing, “There are biological research facilities in Ukraine, and we fear that Russia will take control over them.”. #ukraine #biolabs https://t.co/uPD3W6qDuY\n",
            "sentiment: pos \n",
            "---------------\n",
            "text: @rob0349 What the hell are we supposed to call it? A minor disagreement? 🤔If it looks like an invasion or a war, IT IS AN INVASION &amp; WAR.\n",
            "#StandWithUkraine #FreshWords\n",
            "sentiment: neg \n",
            "---------------\n",
            "text: These gas prices are a bargain compared to the potential cost of WW3. \n",
            "\n",
            "What a steal\n",
            "\n",
            "#gas #WorldWarIII #UkraineRussianWar #Oilprices #oil\n",
            "sentiment: neg \n",
            "---------------\n",
            "text: We've all seen excruciating images of sick or injured children in #Ukraine. 🇺🇦\n",
            "Along with other #Ontario pediatric centres, @CHEO is sending some surplus medical supplies to embattled children's hospitals. Kids' healthcare often requires specialized equipment and medication. https://t.co/0xMtSkbQmX\n",
            "sentiment: neg \n",
            "---------------\n",
            "text: Just watched the documentary \"Active Measures\" on YouTube in light of the #Ukraine invasion. A real eye-opener.\n",
            "sentiment: pos \n",
            "---------------\n",
            "text: JUST IN: Tire maker Continental joins ever-growing list of companies to suspend production and business in #Russia https://t.co/dkAbm1spjL\n",
            "sentiment: neg \n",
            "---------------\n",
            "text: @KenGardner11 We are governed by profoundly unserious people. \n",
            "Under Secretary of State for Political Affairs Victoria Nuland, said #Poland's decision to release their MiG-29s to #Ukraine was \"a surprise move.\" \n",
            "1) It shouldn't have been.\n",
            "2) If it was, don't say it!\n",
            "sentiment: pos \n",
            "---------------\n",
            "text: Brilliant thread here on Russian interventions in #Syria and #Ukraine and reasons as to why Putin seeks #war - it is an extension of #politics by other means after all https://t.co/3RXYWPDEM7\n",
            "sentiment: pos \n",
            "---------------\n",
            "text: On this #InternationalWomensDay2022\n",
            "Women in Ukraine are fighting for their country and for everyone’s freedom.\n",
            "#OVFAF\n",
            "#StandWithUkraine\n",
            " \n",
            " https://t.co/rwPCikJ0zq\n",
            "sentiment: pos \n",
            "---------------\n",
            "text: #Putin knew we was going to get sanctioned after he invaded \n",
            "\n",
            "He was planning on using #Russia’s reserves as a buffer \n",
            "\n",
            "But according to @StateDept virtually all of their foreign currency reserves are frozen &amp; inaccessible to them\n",
            "sentiment: neg \n",
            "---------------\n",
            "text: Alexei Nikolaevich, Tsarevich of Russia - President Putin fears the White Army of Russia movement. #putin https://t.co/r0wnHSbyAW\n",
            "sentiment: neg \n",
            "---------------\n",
            "text: Democracy requires a lot. Protecting it requires more. As #Putin bombs #Ukraine and families sacrifice everything to secure their #freedom, I pray for them; but I also pray that WE are prepared to make some sacrifice so that #StandWithUkraine️ will not be just another hashtag. https://t.co/5yNY6ydOEv\n",
            "sentiment: pos \n",
            "---------------\n",
            "text: Happy international womens day to these brave women fighting for their families. 🇺🇦❤️❤️\n",
            "\n",
            "#UkraineRussianWar #Russia NATO #Ukraine️  BRT https://t.co/YNWIEvNNHF\n",
            "sentiment: pos \n",
            "---------------\n",
            "text: It’s been a long time since the American people were so united in their views about foreign policy #Russia #Ukraine https://t.co/5QD0vWi1Ah\n",
            "sentiment: pos \n",
            "---------------\n",
            "text: I think him giving an impression of an ordinary human helps Ukrainains in these darkest times. #Ukraine has been criticised for its lack of reports, corruption and what not. But what we see now is incredible courage, determination, unity and resilience https://t.co/Ht6Nqy53FL\n",
            "sentiment: pos \n",
            "---------------\n",
            "text: #Olena Bilozerska, one of the Ukrainian army’s deadliest snipers with 10 confirmed kills. \n",
            "“You take up a weapon against my country – that’s it, you’re a target.”👏✌️\n",
            "#StandWithUkraine 🇺🇦 #HeroesOfUkraine #Ukraine #SlavaUkraine https://t.co/bAFg7GQzd7\n",
            "sentiment: neg \n",
            "---------------\n",
            "text: The official website of the #Russian Federal Penitentiary Service was hacked. A picture against the war with #Ukraine appears instead of the home page https://t.co/FRDVXxiDHk\n",
            "sentiment: neg \n",
            "---------------\n",
            "text: Very large column of Chechens yesterday going to Ukraine to fight.\n",
            "#Ukraine #Russia #Chechenia\n",
            " https://t.co/NuK1PaC2Rt\n",
            "sentiment: neg \n",
            "---------------\n",
            "text: https://t.co/IMiA4qO2fB #Biden Bans #RussianOil, #TheGreatReset in Motion? #Ukraine #VolodymyrZelensky #Russia #Putin #JoeBiden #kamalaharris #NancyPelosi #TonyBlinken #Democrats #Republicans #CNN #BBC #FoxNews #MSNBC #ABC #CBS #NBC\n",
            "sentiment: neg \n",
            "---------------\n",
            "text: Do people truly believe Ukraine is winning this war? As much as I support Ukraines sovereignty, you can't truly believe that propaganda... Can you? #UkraineRussianWar\n",
            "sentiment: pos \n",
            "---------------\n",
            "text: Good morning everyone. \n",
            "People all over the world want the end of the war.\n",
            "Russia should withdraw from Ukraine. Everyone, let's protect Ukraine!\n",
            "#NaturePhotography\n",
            "#StandWithUkraine⁩🇺🇦\n",
            "#NoWar #Flowers https://t.co/pntLCTtqT1\n",
            "sentiment: pos \n",
            "---------------\n",
            "text: Corporate #McDonalds has issued a “ no fry zone “ over #Russia #RussianUkrainianWar\n",
            "sentiment: neg \n",
            "---------------\n",
            "text: Make the most important call of your life. \n",
            "Russian speakers around the world connecting with Russians may be our only way around Putin's propaganda. We have a duty to try. \n",
            "Visit https://t.co/zFKGJfy8Lc to make the call.\n",
            "\n",
            "#CallRussia #StandWithUkraine #Ukraine #Peace\n",
            "#NoToTheWar https://t.co/8sa9I8Iukq\n",
            "sentiment: neg \n",
            "---------------\n",
            "text: My take on #Putin Putin’s selective reading of #Ukraine’s history.  #IStandWithUkraine https://t.co/YtgG7UmEsC\n",
            "sentiment: neg \n",
            "---------------\n",
            "text: Democracy requires a lot. Protecting it requires more. As #Putin bombs #Ukraine and families sacrifice everything to secure their #freedom, I pray for them; but I also pray that WE are prepared to make some sacrifice so that #StandWithUkraine️ will not be just another hashtag. https://t.co/5yNY6ydOEv\n",
            "sentiment: pos \n",
            "---------------\n",
            "text: Britians are more willing to see the cost of living increase, energy bills rise and taxes go up to fight President Putin than France, Germany and Italy.\n",
            "#Ukraine\n",
            "#UkraineWar\n",
            "#Zelensky https://t.co/PhJPo3GHUy\n",
            "sentiment: pos \n",
            "---------------\n",
            "text: #BREAKING—Reports of #Nazi radicals in #Kiev having captured and currently torturing a #UA political scientist and journalist Dmitry #Dzhangirov. #Ukraine #Russia #UkraineRussia #RussiaUkraine #UkraineRussianWar #RussiaUkraineWar \n",
            "https://t.co/YN4CRLQ99K https://t.co/RWRX81up8p\n",
            "sentiment: neg \n",
            "---------------\n",
            "text: We’re live now with @MarkHertling to discuss #Ukraine military strategy and more. Tune in! https://t.co/43yeJV3YBE\n",
            "sentiment: neg \n",
            "---------------\n",
            "text: #Putin is doing the same thing in Ukraine that he did in Syria. Bomb the Living Hell out of the Civilian Areas, Schools, Hospitals, etc.. How can we not say that is a War Crime #WarCrimes\n",
            "sentiment: neg \n",
            "---------------\n",
            "text: Computer, zoom and enhance. #Ukraine #Nazi https://t.co/3bJqO1ynMP\n",
            "sentiment: neg \n",
            "---------------\n",
            "text: The ONLY reason republicans are backing the Russian oil ban is so they can blame gas prices on Biden in an election year. If they actually gave a shit about Ukraine, they’d have voted to impeach and remove donald when he withheld aid from and extorted Zelenskyy. #Ukraine\n",
            "sentiment: neg \n",
            "---------------\n",
            "text: The Republicans wants us to forget their Russian ties and how it applies to #Ukraine https://t.co/lU0NHipnlL https://t.co/MS7UKrGxyq\n",
            "sentiment: neg \n",
            "---------------\n",
            "text: Our @Nowzad charity are gathering supplies to help the #animalrescue shelters in #Ukraine with a plan for support with food and meds once humanitarian corridors are open. Please donate to be the difference via our official website 🙏🏼 #dogs #dogsoftwitter #animals https://t.co/6KMQGwbO0s\n",
            "sentiment: pos \n",
            "---------------\n",
            "text: The Kremlin's mouthpieces on #Russia's state TV are totally obsessed with Zelensky and his whereabouts. Their ill intent is chilling. https://t.co/helfKpS2gQ\n",
            "sentiment: neg \n",
            "---------------\n",
            "text: +++ Fitch taglia rating Russia a 'C', default imminente +++\n",
            "\n",
            "#UkraineRussianWar\n",
            "sentiment: neg \n",
            "---------------\n",
            "text: Reaper Miniatures have launched a special promotion to raise money for #UNICEF With each purchase of our #Ukraine Relief Miniatures below, Reaper Miniatures will donate $7.50 to Unicef. I have pre-ordered mine already...Please Retweet and Help 😍🧙‍♂️https://t.co/SsYp3rAIal https://t.co/WLatWZEpgR\n",
            "sentiment: pos \n",
            "---------------\n",
            "text: SHOCKING: Police beat anti-war protester in Saint Petersburg, #Russia. \n",
            "\n",
            "https://t.co/f08XMgs3Oc\n",
            "sentiment: neg \n",
            "---------------\n",
            "text: A Russian Orthodox leader suggested that the country's invasion of #Ukraine is part of an ongoing conflict to resist liberal pressure to hold gay pride parades, sparking backlash from other Orthodox churches.\n",
            "\n",
            "That makes sense. 🙄🙄🙄\n",
            "\n",
            "#LBGTQ \n",
            "#DemVoice1 \n",
            "https://t.co/nWJpgnJ0ul\n",
            "sentiment: neg \n",
            "---------------\n",
            "text: Protests in front of the Russian Embassy in Washington, DC #Ukraine https://t.co/FmCcqa6S5p\n",
            "sentiment: neg \n",
            "---------------\n",
            "text: It is very worrying that #Belarus facilitates Russia's war on #Ukraine. I spoke with opposition leader Svetlana @Tsihanouskaya. She is incredibly brave and I deeply respect that she continues to give the Belarusian people hope &amp; a voice. A privilege to meet her this #IWD2022 1/2 https://t.co/CTs4yJOCE7\n",
            "sentiment: pos \n",
            "---------------\n",
            "text: Saints Petersburg, Russia\n",
            "Protest against the war\n",
            "#ukraine\n",
            "https://t.co/vs9DxI3Iw3 01\n",
            "sentiment: neg \n",
            "---------------\n",
            "text: Reporter @FergusonNews, producer Tony Jones, and camera operator Ryan Sheridan are on the ground in Kyiv for @4corners. The war in Ukraine will not be ignored. #4corners #RussiaUkraineWar 🌻🇺🇦 https://t.co/hqbf1t3LEq\n",
            "sentiment: neg \n",
            "---------------\n",
            "text: C$77.9 - #FreeShipping | Biggest sale of the season  Samsung Galaxy S21 Official Clear View Cover #Samsung       👉 https://t.co/3kjc5wL7Kb       #sharious  #canadianbestseller  #canada #usa #product #Clear  #Cover  #EFZG991CPEGEW  #Galaxy  #Official . https://t.co/lqdZIdGd3J\n",
            "sentiment: pos \n",
            "---------------\n",
            "text: #RadheShyam #USA 🇺🇸 Premier Show Presales:\n",
            "\n",
            "First to Report: @USATeluguMovie\n",
            "\n",
            "👉$486,358 From 500+ Locations\n",
            "👉 24,480+ Premier show tickets sold \n",
            "👉2 Days to Go For #USA Premieres\n",
            "\n",
            "#RadheShyamOnMetaverse #Prabhas #RRRMovie  #RRRMovie #PoojaHegde #RRR #RadheShyamOnMarch11th https://t.co/MUkhUGthJA\n",
            "sentiment: neg \n",
            "---------------\n",
            "text: ❗️Consumer goods manufacturer Unilever announced the suspension of exports of products to #Russia and imports from it https://t.co/Ng91B0I7qD\n",
            "sentiment: neg \n",
            "---------------\n",
            "text: Our friends in Lviv #Ukraine have received 45 TONS of food from overseas for onward shipment to rescues. That's quite incredible - thank you all the large animal orgs now helping #UkraineAnimals https://t.co/TbNK3upRO7\n",
            "sentiment: pos \n",
            "---------------\n",
            "text: McDonald's, Starbucks, and Coca-Cola are closing in Russia. \n",
            "\n",
            "Wait, I thought we were trying to hurt Russia?\n",
            "\n",
            "#Putler \n",
            "#Ukraine \n",
            "\n",
            "https://t.co/rlHoQxVeXh\n",
            "sentiment: neg \n",
            "---------------\n",
            "text: @uknownjnoub @NewAgeYogaInstr The Russian government is lying to you. There is NO “special operation”. Putin is a war criminal and the whole world is trying to stop these war crimes against Ukraine. Open your eyes #canadasupportsukraine 🇨🇦🕊🇺🇦 #PutinIsaWarCriminal #StandWithUkraine #ZforZelensky #PeaceNotWar\n",
            "sentiment: neg \n",
            "---------------\n",
            "text: Zelensky Says He’s ‘Cooled’ on Joining #NATO, Ready for Talks With #Russia on #Crimea, Donbas\n",
            "Russia wants #Ukraine to declare neutrality, recognize Crimea as Russian, and recognize independence of breakaway #Donbas republics\n",
            "by Dave DeCamp @DecampDave \n",
            "https://t.co/DqnO1jExwE https://t.co/FZNmoh9cky\n",
            "sentiment: pos \n",
            "---------------\n",
            "text: Okay but I really need to know what the music track used in this is because it fucking slaps. #Ukraine https://t.co/FISqUqJiya\n",
            "sentiment: pos \n",
            "---------------\n",
            "text: #Ukraine: More foreign military aid delivered to Ukraine - the Ukrainian forces received a batch of German Panzerfaust 3 anti-tank launchers. \n",
            "\n",
            "Based on previous reports, Ukraine should receive 1400+ Panzerfaust 3 from Germany, the Netherlands and Italy. https://t.co/1jovFuGfgq\n",
            "sentiment: neg \n",
            "---------------\n",
            "text: #Ukraine: Georgian volunteers, led by the former Georgian Defence Minister, captured a Russian BMP-2 IFV.\n",
            "\n",
            "Note Barrett Model 99 AMR. https://t.co/k7SVVnpHI7\n",
            "sentiment: neg \n",
            "---------------\n",
            "text: Gas prices aren't going up because of #Ukraine. Gas prices were going up way before. Why? Because @JoeBiden is incompetent &amp; will do anything to appease the \"green\" energy extremists within his party.\n",
            "\n",
            "And you know what Transporation @SecretaryPete's solution? Buy an electric car\n",
            "sentiment: pos \n",
            "---------------\n",
            "text: I commend Estonia and their Prime Minister @kajakallas on the leadership being shown in dealing with Russia an their invasion of #Ukraine. https://t.co/e35GFisMaM\n",
            "sentiment: pos \n",
            "---------------\n",
            "text: 1997 Video of Joe Biden Warning of Russian Hostility if NATO Expands\n",
            "#Ukraine #Russia #NATO \n",
            "https://t.co/VYVmmRaBNF https://t.co/4tVGT34UXF\n",
            "sentiment: neg \n",
            "---------------\n",
            "text: Rolex stops exporting goods to #Russia, Bloomberg reports. https://t.co/BC9XnOPoiP\n",
            "sentiment: neg \n",
            "---------------\n",
            "text: The Kremlin's mouthpieces on #Russia's state TV are totally obsessed with Zelensky and his whereabouts. Their ill intent is chilling. https://t.co/helfKpS2gQ\n",
            "sentiment: neg \n",
            "---------------\n",
            "text: IDIOT. BIDEN IS AN IDIOT: “How did we get to the place where, you know, Putin decides he’s gonna just invade Russia? Nothing like this has happened since World War II!”\n",
            "#BidenIsALaughingstock \n",
            "#BidenIsADisaster \n",
            "#Biden #Russia https://t.co/SfqZkdeVIF\n",
            "sentiment: neg \n",
            "---------------\n",
            "text: @UrVoteIsUrVoice @asgoulson @tx_granny @VinDMan Block!!! Shameful KGBPutin supporters in our midsts ugh #StandWithUkraine #StopRussia https://t.co/BTclMkqbSO\n",
            "sentiment: neg \n",
            "---------------\n",
            "text: New Vibes  \"AYE\" by Modis Chrisha -- on Pandora Music in the USA. #music #pandoramusic @pandoraAMP #positive #electronicmusic #ElectroHouse  #deephouse #techhouse #GoodVibes #USA #motivation #inspiration  #workout  #NewRelease Enjoy!  https://t.co/jM8rj1mIyl\n",
            "sentiment: pos \n",
            "---------------\n",
            "text: Let your braincells grow, and go the fuck home to your moms! they wait for you!!! u r devastated, no clue, what the fuck u r doing to children, mothers and fathers (killing innocent civilian) .#Ukraine️  #RussiaUkraineWar #UkraineRussianWar #killers #bastards #humanviolation\n",
            "sentiment: neg \n",
            "---------------\n",
            "text: The Kremlin's mouthpieces on #Russia's state TV are totally obsessed with Zelensky and his whereabouts. Their ill intent is chilling. https://t.co/helfKpS2gQ\n",
            "sentiment: neg \n",
            "---------------\n",
            "text: Great. Now let’s arm Ukraine with the weapons they need to end this bloody war. We are on the cusp of something far worse. #StandWithUkraine https://t.co/39218WXEvN\n",
            "sentiment: neg \n",
            "---------------\n",
            "text: #auspol #AusPol2022 #ukraine #RussianUkrainianWar #war \n",
            "\n",
            "The revelation today that the USA had developed a network of Biological Weapons Labs on Russias border has justified Russias invasion.\n",
            "\n",
            "Crimes against humanity / War crimes with biological weapons.\n",
            "\n",
            "The irony of Iraq. https://t.co/XIsFF14D7X\n",
            "sentiment: neg \n",
            "---------------\n",
            "text: \"Ukraine is Europe's breadbasket, but we can't go out to sow right now.\n",
            "\n",
            "We need farmers worldwide to make sure that our politicians understand this and that the politicians do everything they can to stop this war!\"\n",
            "\n",
            "#Ukraine #StopPutinNOW #farmers #WeStandwithUkriane https://t.co/bZc9p4fhlE\n",
            "sentiment: neg \n",
            "---------------\n",
            "text: Dire situation of civilians in cities besieged by the #Russians, International #WomensDay in times of war, #Poland sending fire engines to #Ukraine, celebrities' aid and more. Check out the latest World News episode.\n",
            "\n",
            "https://t.co/jcT7qLIZrU\n",
            "sentiment: neg \n",
            "---------------\n",
            "text: URGENT! An owner of a pet hotel in #Kiev was left with 67 cats/dogs who’s owners never returned. She will NOT abandon them. We urgently need a rescue back up at either the #Romania or #Poland border with #Ukraine. Transport is not yet 100% confirmed. #UkraineRussianWar #Rescue https://t.co/F5zrHMOZch\n",
            "sentiment: pos \n",
            "---------------\n",
            "text: The People's Convoy was a protest about what? Was it about #freedumb?\n",
            "\n",
            "Shouldn't the #TruckersGoHome? Its #dumb! Pandemic restrictions are being lifted. #SCOTUS has ruled against vaccine mandates.\n",
            "\n",
            "#TruckersConvoy2022\n",
            "#Truckersforfreedomconvoy2022 \n",
            "#StandWithUkraine \n",
            "\n",
            "#DemVoice1 https://t.co/zv3auUTUDZ\n",
            "sentiment: neg \n",
            "---------------\n",
            "text: Great to see @Starbucks and @McDonalds close in Russia.\n",
            "\n",
            "#StandwithUkraine https://t.co/4csexBTXMm\n",
            "sentiment: pos \n",
            "---------------\n",
            "text: Leonardo DiCaprio donated $10M to support Ukraine…here he is with his grandmother that was born in Odessa, Ukraine https://t.co/ETqkJ0d9gF\n",
            "\n",
            "#StandWithUkraine https://t.co/WdT3Th52hW\n",
            "sentiment: pos \n",
            "---------------\n",
            "text: Buy while it's hot\n",
            "\n",
            "After McDonald's announcement that they were leaving #Russia, people have already started selling their supplies on Internet. https://t.co/DtoWbuZ1If\n",
            "sentiment: neg \n",
            "---------------\n",
            "text: 🛑🛑🛑Locals report explosions in Kherson . \n",
            "Take cover \n",
            "#Ukraine #Russia #Putin\n",
            "sentiment: neg \n",
            "---------------\n",
            "text: #NATO #InvasionOnCountries \n",
            "I don't remember when NATO was sanctioned when: \n",
            "👉🏾 14,500 killed in Libya\n",
            "👉🏾 165,000 bombed in Afghanistan\n",
            "👉🏾 224,000 dead in Syria\n",
            "👉🏾 1 million 200 thousand deleted in Iraq\n",
            "When NATO invades and kills civilians, it is to liberate the people and https://t.co/0zAODnfKTn\n",
            "sentiment: neg \n",
            "---------------\n",
            "text: “When the limits of rights and freedoms are being violated and stepped on,” he said, “then you have to protect us because we will come first and you will come second.”\n",
            "- #Zelensky (Ukraine)\n",
            "\n",
            "https://t.co/j0Xq7kD8ef\n",
            "sentiment: pos \n",
            "---------------\n",
            "text: 💥BUSTED💥 If this is true, then Putin already justified his invasion 👉 U.S. Under Secretary of State Victoria Nuland at the congressional hearing, “There are biological research facilities in Ukraine, and we fear that Russia will take control over them.”. #ukraine #biolabs https://t.co/uPD3W6qDuY\n",
            "sentiment: pos \n",
            "---------------\n",
            "text: Flying high over our rural market place this morning in North Yorkshire 🇺🇦 #StandWithUkraine 🇬🇧🇺🇦🇬🇧🇺🇦 https://t.co/eWEn1S8tbo\n",
            "sentiment: neg \n",
            "---------------\n",
            "text: #Ukraine is fighting a battle for delay by the way.\n",
            "There are no \"counter offensives\"\n",
            "Holding some strong holds - some of them encircled or at least cut off.\n",
            "Their \"strategy\" is jamming RF Forces and their allies by hit and run attacks and ambushes on supply lines.\n",
            "sentiment: neg \n",
            "---------------\n",
            "text: Some people are really pumping out quality content \n",
            "#Ukraine #UkraineRussianWar https://t.co/0SWbMLafNS\n",
            "sentiment: neg \n",
            "---------------\n",
            "text: #Ukraine MiG-29M is fly-by-wire, earlier Polish version isn't. Big difference for a pilot. Slightly different engines (spare parts), radar, etc. M can handle more modern precision weapons and carries more fuel. In peacetime pilots would go on a conversion course. https://t.co/TCeoneyMVC\n",
            "sentiment: neg \n",
            "---------------\n",
            "text: I think him giving an impression of an ordinary human helps Ukrainains in these darkest times. #Ukraine has been criticised for its lack of reports, corruption and what not. But what we see now is incredible courage, determination, unity and resilience https://t.co/Ht6Nqy53FL\n",
            "sentiment: pos \n",
            "---------------\n",
            "text: \"They clearly shot to kill”: Swiss photojournalist Guillaume Briquet narrowly escaped bullets yesterday, fired by a Russian commando on a road in southern #Ukraine. The “press\" markings were clearly visible on his car. 1/2 https://t.co/beoz64VkRA\n",
            "sentiment: pos \n",
            "---------------\n",
            "text: The Kremlin's mouthpieces on #Russia's state TV are totally obsessed with Zelensky and his whereabouts. Their ill intent is chilling. https://t.co/helfKpS2gQ\n",
            "sentiment: neg \n",
            "---------------\n",
            "text: Buy Lenovo 13.3\" FHD Touchscreen Laptop (i3-10110U / 8GB / 128GB SSD) only $299.99 #Dailydeals #Discounts #HotDeals #Sale #Deals #Electronics #USA https://t.co/zTmnnNA9eP\n",
            "\n",
            "https://t.co/zTmnnNA9eP\n",
            "sentiment: neg \n",
            "---------------\n",
            "text: ❗️Consumer goods manufacturer Unilever announced the suspension of exports of products to #Russia and imports from it https://t.co/Ng91B0I7qD\n",
            "sentiment: neg \n",
            "---------------\n",
            "text: 📽️ Feb 28, Russian BMP-2 attacked a civilian car near Makariv. Speechless... #Ukraine #UkraineRussiaWar https://t.co/AYv0nFgEQZ\n",
            "sentiment: neg \n",
            "---------------\n",
            "text: #Ukraine: Georgian volunteers, led by the former Georgian Defence Minister, captured a Russian BMP-2 IFV.\n",
            "\n",
            "Note Barrett Model 99 AMR. https://t.co/k7SVVnpHI7\n",
            "sentiment: neg \n",
            "---------------\n",
            "text: Lots of good points, many of which have passed through my tiny brain.\n",
            "\n",
            "1 such thing is watching the so called moderates get all excited about war?! I can't get excited about the idea of thousands of innocent people being slaughtered on tyrant's whim.\n",
            "\n",
            "#UkraineRussianWar https://t.co/VpdyRn1tZ2\n",
            "sentiment: pos \n",
            "---------------\n",
            "text: The Kremlin's mouthpieces on #Russia's state TV are totally obsessed with Zelensky and his whereabouts. Their ill intent is chilling. https://t.co/helfKpS2gQ\n",
            "sentiment: neg \n",
            "---------------\n",
            "text: JUST IN: Coca-cola Suspends Business in #Russia over invasion of Ukraine. Follows McDonalds &amp; Starbucks today.\n",
            "\n",
            "PepsiCo exploring options.\n",
            "sentiment: neg \n",
            "---------------\n",
            "text: “We are afraid of what might start here”: residents of the Kharkiv region, who came to receive Russian humanitarian aid, spoke about the complete information chaos in #Ukraine media constantly reports on the supply of foreign weapons, mostly to civilians https://t.co/xoxiHtU7du\n",
            "sentiment: neg \n",
            "---------------\n",
            "text: Update — the @StateDept says #Poland’s announcement was premature &amp; not coordinated &amp; @DeptofDefense says it should be #Poland that delivers jets to #Ukraine.\n",
            "\n",
            "What a mess. https://t.co/NjkgV5XFCj\n",
            "sentiment: neg \n",
            "---------------\n",
            "text: https://t.co/75yIIY5wTG When your cougar Aunty puts you in her inheritance 🙇🏾‍♂️ (banter) #africa #nigeria #ghana #banter #fyp #FYP #comedy #bbc #urban #actor #itv #adult #uk #Ukraine https://t.co/Z88P6txUhp\n",
            "sentiment: neg \n",
            "---------------\n",
            "text: An agency cuts #russia's #esg rating two notches because of the #ukraineinvasion. What's Vladimir Putin got to do to get the lowest rating? A problem with #esgratings.   Here's a sharp story by me.\n",
            "https://t.co/YK144905mq\n",
            "sentiment: neg \n",
            "---------------\n",
            "text: The ONLY reason republicans are backing the Russian oil ban is so they can blame gas prices on Biden in an election year. If they actually gave a shit about Ukraine, they’d have voted to impeach and remove donald when he withheld aid from and extorted Zelenskyy. #Ukraine\n",
            "sentiment: neg \n",
            "---------------\n",
            "text: Seems it doesn't matter to the 'concerned liberals' of Europe, just how many hundreds of thousands of #Afghans die of hunger in a country destroyed by #US and #NATO ... https://t.co/Wt3pG1se2j\n",
            "sentiment: neg \n",
            "---------------\n",
            "text: Day 13 LIVE: central Kyiv with sound | live HD | camera | multiple viewpoints | #Kiev #Kyiv #Ukraine... https://t.co/UVNLNMaBpJ via @YouTube\n",
            "sentiment: neg \n",
            "---------------\n",
            "text: EUROPEAN LIES \n",
            "This guy messed up everything😁\n",
            "#UkraineRussianWar #Ukraine https://t.co/5q2i3zFsW2\n",
            "sentiment: neg \n",
            "---------------\n",
            "text: I've decorated my office with these orchids to signify #Taiwan's continued support for #Ukraine. I hope that freedom &amp; democracy can continue to blossom in both our countries. https://t.co/9gSvG8G03G\n",
            "sentiment: pos \n",
            "---------------\n",
            "text: Here's a list of vetted animal charities working in Ukraine or at the border with Poland. https://t.co/kZzUE7Mlmn #StandWithUkraine #animals #CatsOfTwitter #ukraine #Poland #HelpUkraine #cats 🇺🇦🐾 https://t.co/8qWCLW9vA3\n",
            "sentiment: pos \n",
            "---------------\n",
            "text: #Putin #now #you are #killing #puppies innocent cats and #dogs #whatiswrongwithyou you are  in breach of #GenevaConventions #GenevaSummit2022 #standdown @ICC @haguejustice @KharkivJS @vonderleyen @NATO @SeanPenn @UN @#KharkivMassacre https://t.co/M0chw7zUp2\n",
            "sentiment: pos \n",
            "---------------\n",
            "text: 🇺🇦 Today is International Women's Day. We wanted to recognize the courageous women of Ukraine. #internationalwomensday #ukraine #women #army #refugees #support #courage #strength #grit #war https://t.co/D0PtsJUZeY\n",
            "sentiment: pos \n",
            "---------------\n",
            "text: I'm no expert in world politics but this I know: #Putin will do EVERYTHING to win.  He rather see the world a nuclear wasteland than losing.  What r we going 2 do to stop him before it is 2 late? @NATO @POTUS @EmmanuelMacron @JustinTrudeau @ChefSteinmeier @BorisJohnson\n",
            "sentiment: pos \n",
            "---------------\n",
            "text: Flying high over our rural market place this morning in North Yorkshire 🇺🇦 #StandWithUkraine 🇬🇧🇺🇦🇬🇧🇺🇦 https://t.co/eWEn1S8tbo\n",
            "sentiment: neg \n",
            "---------------\n",
            "text: Here is the latest control-of-terrain map for #Russia's invasion of #Ukraine from @TheStudyofWar and @criticalthreats. The biggest changes in control over the past 24 hours have been Russian advances near key frontline neighborhoods in the northern and western #Kyiv outskirts. https://t.co/EWRuCH8Aib\n",
            "sentiment: neg \n",
            "---------------\n",
            "text: The owner of KFC and Pizza Hut has stopped investing in Russia and promised aid for #Ukraine. https://t.co/xeXKgUDvMY\n",
            "sentiment: pos \n",
            "---------------\n",
            "text: AID TO KHARKIV!\n",
            "\n",
            "I minted this piece to fund the rescue of my friends dog kennel in Kharkiv, Ukraine. 45 dogs and three people are stuck in the warzone, proceeds will go directly to their immediate evacuation.\n",
            "\n",
            "1tez\n",
            "\n",
            "https://t.co/94ZCDoNR8U\n",
            "\n",
            "#ukraine #tezos #artforUA https://t.co/3RwzIYY1xq\n",
            "sentiment: pos \n",
            "---------------\n",
            "text: @Osinttechnical Let's agree to settle the debate on what Russia's Z represents. It's a #russianswastika .  Let's take back the letter Z asap! Shame on Russia. Shame to anyone displaying a Z as a russian swastika now or in the future. #TakeBackTheLetterZ #StandWithUkraine 🇺🇦 #shameful\n",
            "￼ https://t.co/ZeFiWinGyC\n",
            "sentiment: neg \n",
            "---------------\n",
            "text: ❗️Russian invaders shooting at a civilian car, with people.❗️\n",
            "\n",
            "#Ukraine #Russia #Kyiv #Odessa #Kharkiv #TPYXA #TPYXAEnglish https://t.co/6Nvjojzruc\n",
            "sentiment: neg \n",
            "---------------\n",
            "text: @mrjamesob @itvnews @thetimes @BBCNews #StandWithUkraine #UkraineUnderAttaсk #UkraineConflict #UkraineRefugees #WaiveVisas Ukrainian refugees wanting to come to the UK are being forced through a Kafkaesque bureaucratic nightmare. Let me tell you my grandma's story. 1/6 https://t.co/58I89YMeoG\n",
            "sentiment: neg \n",
            "---------------\n",
            "text: If I hear one more person I know complain about the rising cost of gasoline, I am going to buy them a one way ticket to Ukraine to help put things into perspective.  \n",
            "\n",
            "#tonedeaf \n",
            "#getaclue \n",
            "#StandWithUkraine\n",
            "sentiment: neg \n",
            "---------------\n",
            "text: US and UK are expected to announce today that they are banning Russian oil imports.\n",
            "\n",
            "The bans on Russian gas and oil imports will hurt Vladimir Putin &amp; devastate Russia's economy. \n",
            "\n",
            "Help #Ukraine defend itself.\n",
            "\n",
            "#OilPrices #GasPrices \n",
            "#PutinWarCrimes\n",
            "#StandWithUkraine\n",
            "\n",
            "#DemVoice1 https://t.co/SitrEHPfmD\n",
            "sentiment: neg \n",
            "---------------\n",
            "text: They're all terrified: the U.S., NATO, the Brits (major instigators in every war in the last century), etc. are weak. Now comes the rise of the multipolar world, led by #Russia and #China. The sun has set on the British Empire. MacKinder is rolling over in his grave. \n",
            "#Ukraine https://t.co/p6eyVkbXdq\n",
            "sentiment: neg \n",
            "---------------\n",
            "text: The Kremlin's mouthpieces on #Russia's state TV are totally obsessed with Zelensky and his whereabouts. Their ill intent is chilling. https://t.co/helfKpS2gQ\n",
            "sentiment: neg \n",
            "---------------\n",
            "text: Chechen Army: \" !!!With fighters like this, we are not afraid of anything! Just go ahead!!!  \"\n",
            "\n",
            "#RussiaUkraineConflict #RussianUkrainianWar #UkraineRussianWar #Russia #Kiev #Chechen  #Kadyrov https://t.co/XTZhfNw6ZW\n",
            "sentiment: pos \n",
            "---------------\n",
            "text: Women from the ground spoke today at this event describing lack and inefficiency of humanitarian assistance towards the people in #Ukraine #MFA #solidarityWithUkraine https://t.co/4aeXIceh1S https://t.co/ySgJKDeMwy\n",
            "sentiment: neg \n",
            "---------------\n",
            "text: The world admirably reacted to what is happening in #Ukraine. let the world now show a fraction of that same reaction to what has been happening in #Tigray for 16 months by ending #TigraySiege. #StopTigrayGenocide @EU_Commission @SecBlinken @JosepBorrellF @antonioguterres\n",
            "sentiment: pos \n",
            "---------------\n",
            "text: A quick dig surfaces that Elena Branson, just charged by @SDNYnews for acting as an illegal agent of #Russia has an... interesting  footprint.\n",
            "\n",
            "Sources: \n",
            "@MSnegovaya (2017)\n",
            "https://t.co/2tfe8m5rNL\n",
            "@magnitsky (2020) https://t.co/RUvlWwShr2 https://t.co/sYxhQvHZqO\n",
            "sentiment: neg \n",
            "---------------\n",
            "text: I’ve written a piece of music and called it Isolation. It's how I’m feeling right now. @BBCNews @BBCWorld @BBCRadio3 @BBCSounds @BBCRadio4 #Russia #Ukraine https://t.co/ATefa6xFb0\n",
            "sentiment: neg \n",
            "---------------\n",
            "text: This #InternationalWomensDay I am in awe of the women of #Ukraine the mothers, sisters, aunts and grandmothers who are doing all they possibly can to defend their country, their children, their future and their freedom. #IStandWithUkraine #InternationalWomensDay2022 #strength https://t.co/xn1kTYa9Yy\n",
            "sentiment: pos \n",
            "---------------\n",
            "text: Something very strange. A Russian soldier appears to have broken into a liquor store and gotten drunk. He was then captured #Russia #Ukraine #Kyiv #invasion #russiaukraine #russiaukrainewar #ukrainewarvideos #UkraineRussiaWar https://t.co/ElHE0GgCFA\n",
            "sentiment: neg \n",
            "---------------\n",
            "text: President of Ukraine Volodymyr Zelensky rejects asylum offers from Europe: \"I will stay in my country and if I die, I will die with my soldiers.\"  \n",
            "\n",
            " #UkraineWar #StopRussia #HeyPutin #IStandWithUkraine\n",
            "#Ukraine\n",
            "Real life hero ❤️ https://t.co/oK8SjFBscA\n",
            "sentiment: neg \n",
            "---------------\n",
            "text: NEW -- #Poland has agreed to deploy *all* of its MiG-29 jets to the U.S. AB at Rammstein, in exchange for \"used\" U.S. aircraft with equivalent capabilities.\n",
            "\n",
            "HUGE news for #Ukraine.\n",
            "\n",
            "https://t.co/KYyZ8B24qz https://t.co/pLlrGW2ziL\n",
            "sentiment: pos \n",
            "---------------\n",
            "text: @TiborPNagyJr #Ambazonia wants French #Cameroun at the @SwissMFA led table! This can happen in 2022 if #USA sanctions LRC like it did #Russia for attacks on #Ukraine️ \n",
            "#BlackLivesMatter      \n",
            "@SenatorRisch \n",
            "@SenatorCardin  \n",
            "@USEmbYaounde \n",
            "@ChrisCoons  \n",
            "@SenMarkey \n",
            "@ChrisVanHollen \n",
            "@SecBlinken https://t.co/xKebYAKIeP\n",
            "sentiment: neg \n",
            "---------------\n",
            "text: #russiansoldiers shot an old #Ukrainian couple who were driving home.\n",
            "--\n",
            "@mfa_russia @mod_russia @KremlinRussia soon you'll be rubbing shoulders with Adolf Hitler in hell. Take a bullet to your deranged heads, degenerates.\n",
            "--\n",
            "#Ukraine #UkraineRussiaWar #UkraineInvasion https://t.co/mZwxoaZD6C\n",
            "sentiment: neg \n",
            "---------------\n",
            "text: I solved #UkraineRussianWar https://t.co/9jBHk1j0wp\n",
            "sentiment: pos \n",
            "---------------\n",
            "text: There are still heroes in Russia\n",
            "\n",
            "Alexander Garnaev, a Hero of Russia, test pilot and chairman of the Club of Heroes of #Russia and USSR, has resigned as chairman in protest against the war in Ukraine. https://t.co/zuyl9STQQg\n",
            "sentiment: pos \n",
            "---------------\n",
            "text: Paul #Manafort @PaulManafort talks about the #Russia hoax and the FBI early morning raid in his apartment on an interview with @STEPHMHAMILL on @OANN https://t.co/HjpsJ1NfeX\n",
            "sentiment: neg \n",
            "---------------\n",
            "text: freedom\n",
            "dignity\n",
            "respect\n",
            "human rights\n",
            "rule of law\n",
            "solidarity\n",
            "self-organization\n",
            "social responsibility\n",
            "equality\n",
            "freedom of speech\n",
            "peaceful protest\n",
            "transparency\n",
            "accountability\n",
            "religious freedom\n",
            "multiculturalism\n",
            "international law\n",
            "\n",
            "*shortlist of what we stand for\n",
            "\n",
            "#StandWithUkraine\n",
            "sentiment: pos \n",
            "---------------\n",
            "text: #PutinWarCrimes #Putin #CancelRussia #Russians #Putin's War https://t.co/BQcZoqykfw\n",
            "sentiment: neg \n",
            "---------------\n",
            "text: These two are the least qualified individuals to be in the White House..\n",
            "\n",
            "One refuses to answers questions about #Ukraine, the other talks to people like they're in kindergarten? https://t.co/PWlgepflo7\n",
            "sentiment: pos \n",
            "---------------\n",
            "text: Do you have class tasks?\n",
            "Reach me out for a \n",
            "#Thesis\n",
            "#Assignments \n",
            "#onlineclasse\n",
            "#Case paper\n",
            "@legitsuperpaper\n",
            "#research proposal \n",
            "#Nursing\n",
            "#Psychology \n",
            "#Nursingpaper\n",
            "#USA #UAE #Philippines  #100DaysOfCode #SpringBreak \n",
            "\n",
            "DM or WhatsApp +1(480)866-5744\n",
            "sentiment: pos \n",
            "---------------\n",
            "text: What have those big brown eyes seen? \n",
            "Everyone tried. She never smiled. Not once. \n",
            "\n",
            "#Ukraine #Ukrainewar #UkraineUnderAttaсk #Ukraineinvasion https://t.co/C8fB91u9Im\n",
            "sentiment: neg \n",
            "---------------\n",
            "text: In late February 2014 Russia invaded Crimea. On March 8th we attended a large dinner at the Austrian defense attache's apartment and all the Europeans were already calling Crimea a fait accompli. \n",
            "\n",
            "APPEASEMENT NEVER WORKS.\n",
            "\n",
            "#StandWithUkraine \n",
            "#IStandWithUkraine️ \n",
            "#SlavaUkraini\n",
            "sentiment: neg \n",
            "---------------\n",
            "text: The Kremlin's mouthpieces on #Russia's state TV are totally obsessed with Zelensky and his whereabouts. Their ill intent is chilling. https://t.co/helfKpS2gQ\n",
            "sentiment: neg \n",
            "---------------\n",
            "text: This line from #Beijing being promoted by the Party’s press has several goals: it again says the #US is responsible for #Russia’s invasion; it drags #covid conspiracy theories into, of all things, the #UkraineRussiaWar &amp; diverts attention from what’s really happening in #Ukraine https://t.co/32yldAkbg6\n",
            "sentiment: pos \n",
            "---------------\n",
            "text: #Ukraine: The Ukrainian John Deere Brigade apparently found another abandoned T-80U tank. https://t.co/SsNBXvOIkc\n",
            "sentiment: neg \n",
            "---------------\n",
            "text: What Sunday's rally in support of #Ukraine in #Almaty, #Kazakhstan looked like. https://t.co/x7TKOSsOB8\n",
            "sentiment: pos \n",
            "---------------\n",
            "text: A German multi-billionaire has rented three hotels at the  Polish-German border for three+ months for #Ukraine refugees, turning meeting rooms into playrooms for children &amp; kindergarten teachers. Kitchens will provide a breakfast &amp; dinner buffet. Will likely cost him $5 million️\n",
            "sentiment: neg \n",
            "---------------\n",
            "text: The U.S. is looking for options to limit #Russia's access to cryptocurrencies. https://t.co/8b73LH2dz3\n",
            "sentiment: neg \n",
            "---------------\n",
            "text: Kharkiv region. Before Russian attack it was hospital.\n",
            "#ukrainewar #ukraineinaction #Ukraine #UkraineUnderAttack #putin #putinwarcrimes https://t.co/tAWJlmTDSX\n",
            "sentiment: neg \n",
            "---------------\n",
            "text: #USA you think you are paying much for gasoline @ $4/gallon? \n",
            "In the #Netherlands we are paying $9/gallon. \n",
            "\n",
            "#StopTheWar #inflation #gasoline\n",
            "sentiment: neg \n",
            "---------------\n",
            "text: #russiansoldiers shot an old #Ukrainian couple who were driving home.\n",
            "--\n",
            "@mfa_russia @mod_russia @KremlinRussia soon you'll be rubbing shoulders with Adolf Hitler in hell. Take a bullet to your deranged heads, degenerates.\n",
            "--\n",
            "#Ukraine #UkraineRussiaWar #UkraineInvasion https://t.co/mZwxoaZD6C\n",
            "sentiment: neg \n",
            "---------------\n",
            "text: And even the underground station #standwithukraine 🇸🇪💙💛🚈🇺🇦☮️ without any human effort to help it do so… #stockholm #sweden \n",
            "\n",
            "#peace #democracy #architecture #subway #its2022wecandobetter https://t.co/QNb0y7SDX8\n",
            "sentiment: pos \n",
            "---------------\n",
            "text: Who is to blame for the Russian invasion of Ukraine?\n",
            "\n",
            "Please vote then Retweet❗️\n",
            "#Russia #Ukraine #NATO #WW3\n",
            "sentiment: neg \n",
            "---------------\n",
            "text: Great to look out from my home and see that #VirginiaBeach's Lesner Bridge is in blue and yellow lights in support of #Ukraine. https://t.co/jTNGDSmVml\n",
            "sentiment: pos \n",
            "---------------\n",
            "text: Latest Defence Intelligence update on the situation in Ukraine - 08 March 2022\n",
            " \n",
            "Find out more about the UK government's response: https://t.co/g3NtoHmnL3\n",
            "\n",
            "🇺🇦 #StandWithUkraine 🇺🇦 https://t.co/oDhCz7OhEP\n",
            "sentiment: pos \n",
            "---------------\n",
            "text: 🇺🇦🇺🇳|🇷🇺 Oleg Anisimov, head of the #Russian UN climate delegation, has apologized to the UN for Russia's aggression against #Ukraine. Adding that this is his personal opinion.\n",
            "\n",
            "#UkraineRussiaWar #Kyiv #Putin https://t.co/6jAVTpz3om\n",
            "sentiment: neg \n",
            "---------------\n",
            "text: Japanese #Uniqlo supports soldier destroying the world and killing #Ukraine people from cold by their heattech technology.\n",
            "\n",
            "Shame on Uniqlo.\n",
            "#boycottuniqlo \n",
            "\n",
            "https://t.co/kOpsSSqnFA\n",
            "sentiment: neg \n",
            "---------------\n",
            "text: A German multi-billionaire has rented three hotels at the  Polish-German border for three+ months for #Ukraine refugees, turning meeting rooms into playrooms for children &amp; kindergarten teachers. Kitchens will provide a breakfast &amp; dinner buffet. Will likely cost him $5 million️\n",
            "sentiment: neg \n",
            "---------------\n",
            "text: #Starbucks Corp. says it is suspending all business activity in #Russia, and its licensee will temporarily close about 130 stores.\n",
            "#RussianUkrainianWar\n",
            "sentiment: neg \n",
            "---------------\n",
            "text: Literally a no-brainer; About 1,000 creations (500+ games, 50+ game asset packs, etc.) for $10, all proceeds go towards humanitarian aid in Ukraine 🇺🇦! https://t.co/vqt2T08Ee9\n",
            "\n",
            "#indiegame #ukraine #games https://t.co/QW1qZJy5S6\n",
            "sentiment: pos \n",
            "---------------\n",
            "text: The Kremlin's mouthpieces on #Russia's state TV are totally obsessed with Zelensky and his whereabouts. Their ill intent is chilling. https://t.co/helfKpS2gQ\n",
            "sentiment: neg \n",
            "---------------\n",
            "text: #Putin does not equal #Russia. \n",
            "\n",
            "For us, Russia is that of @navalny, Nemtsov and Magnitsky. \n",
            "\n",
            "Brave citizens of Russia, despite the threat of jail and the brutal crackdown, continue to stand up. \n",
            "\n",
            "For me, these are the peacemakers.\n",
            "sentiment: pos \n",
            "---------------\n",
            "text: Little girl singing \"Let it go\" in a shelter\n",
            "\n",
            "#UkraineRussianWar #Ukraine #UkraineUnderAttack https://t.co/6gfcUoiwJJ\n",
            "sentiment: neg \n",
            "---------------\n",
            "text: I've decorated my office with these orchids to signify #Taiwan's continued support for #Ukraine. I hope that freedom &amp; democracy can continue to blossom in both our countries. https://t.co/9gSvG8G03G\n",
            "sentiment: pos \n",
            "---------------\n",
            "text: @PalmerReport Thank You @POTUS! It wonderful having a president who is knowledgeable, has integrity and good relationships with the EU and NATO, it's why we voted for him! Thanks to Poland too for working this deal with Joe Biden to assist the people of Ukraine. #StandWithUkraine 🇺🇦🌻🇺🇦\n",
            "sentiment: pos \n",
            "---------------\n",
            "text: @Danone are you okay with sponsoring terrorists? if so, then openly claim that you support #russia. otherwise leave their local market. speak out, so it is clear whether to keep buying your goods or start boycotting them already\n",
            "@Danone_EU @DanoneFR \n",
            "#StopRussia #StopWarInUkraine https://t.co/xIHHWGrIcE\n",
            "sentiment: neg \n",
            "---------------\n",
            "text: On International Women's Day I pay tribute to all women contributing to #NATO's security &amp; defence. #IWD https://t.co/ZfIynZlJUk\n",
            "sentiment: pos \n",
            "---------------\n",
            "text: The next question someone needs to ask about #Ukraine is this. If nations can donate their fighter jets as long as Ukrainian pilots can fly them (hence the MiGs), and also foreign volunteers can fight there, what happens if a jet comes with a volunteer who knows how to fly it?\n",
            "sentiment: neg \n",
            "---------------\n",
            "text: This is the dude I'm sitting next to in parliament, Roman Kostenko. Today he is destroying the #russianbastards. I'm very glad to have such MPs in #Ukraine. We are strong! https://t.co/aHL2uqaDBY\n",
            "sentiment: pos \n",
            "---------------\n",
            "text: Do you have class tasks?\n",
            "Reach me out for a \n",
            "#Thesis\n",
            "#Assignments \n",
            "#onlineclasse\n",
            "#Case paper\n",
            "@legitsuperpaper\n",
            "#research proposal \n",
            "#Nursing\n",
            "#Psychology \n",
            "#Nursingpaper\n",
            "#USA #UAE #Philippines  #100DaysOfCode #SpringBreak \n",
            "\n",
            "DM or WhatsApp +1(480)866-5744\n",
            "sentiment: pos \n",
            "---------------\n",
            "text: Written my first piece on Russian disinformation during #UkraineRussianWar\n",
            "\n",
            "With my colleague, we look at two hashtags that began to trend as the invasion happened. In all likelihood an influence op, we zoom in on its early days. How did it roll out?\n",
            "\n",
            "🧵\n",
            "\n",
            "https://t.co/9yyfsHlSOY\n",
            "sentiment: neg \n",
            "---------------\n",
            "text: I've decorated my office with these orchids to signify #Taiwan's continued support for #Ukraine. I hope that freedom &amp; democracy can continue to blossom in both our countries. https://t.co/9gSvG8G03G\n",
            "sentiment: pos \n",
            "---------------\n",
            "text: Little San Marino is on Putin's \"Unhappy With\" List. I visited it and blog about it here: Visiting San Marino: Oldest Sovereign State in the World! https://t.co/v3ZDWwzVLa via @pragmaticmom  #SanMarino #Putin #Europe #PutinAtWar https://t.co/l8hNht9K5m\n",
            "sentiment: neg \n",
            "---------------\n",
            "text: It has been a very long time since Parliament heard the voice of a great political leader like #Zelensky.\n",
            "sentiment: pos \n",
            "---------------\n",
            "text: ⚡️#Zelensky:\n",
            "\n",
            "The world does not believe in the future of #Russia. Doesn't talk about him. They talk about us, help us, prepare to support our recovery after the war. Because everyone saw: for the people who defend themselves so heroically, this “after the war” will come https://t.co/Yv76CQqJmr\n",
            "sentiment: pos \n",
            "---------------\n"
          ]
        }
      ]
    },
    {
      "cell_type": "code",
      "execution_count": null,
      "metadata": {
        "id": "D2ioSEl-Car7"
      },
      "outputs": [],
      "source": [
        " data_nltk['cleaned_text'][:1].apply(extract_features)"
      ]
    },
    {
      "cell_type": "code",
      "execution_count": null,
      "metadata": {
        "id": "VduUczfVCBQ2"
      },
      "outputs": [],
      "source": [
        "data_nltk['cleaned_text']"
      ]
    },
    {
      "cell_type": "code",
      "execution_count": null,
      "metadata": {
        "id": "-DgDoWqkz-ti"
      },
      "outputs": [],
      "source": [
        "# groups by sentiment and displays relative proportions\n",
        "# tweets are mostly negative, but attitudes towards russia/ukraine cannot be determined\n",
        "data_nltk.groupby(['sentiment']).sum().plot(kind='pie', y=\"tweetid\", autopct='%1.1f%%', startangle=270, fontsize=17)"
      ]
    },
    {
      "cell_type": "markdown",
      "metadata": {
        "id": "L8mdOsg8LR-6"
      },
      "source": [
        "# TextBlob\n",
        "https://textblob.readthedocs.io/en/dev/quickstart.html"
      ]
    },
    {
      "cell_type": "code",
      "execution_count": null,
      "metadata": {
        "id": "H6PeC5hBLhIz"
      },
      "outputs": [],
      "source": [
        "# using textblob\n",
        "# pretrained model\n",
        "# what is the underlying implementation of the model?\n",
        "# seems to be either nltk naive bayes or pattern\n",
        "# https://stackabuse.com/sentiment-analysis-in-python-with-textblob/\n",
        "\n",
        "from textblob import TextBlob"
      ]
    },
    {
      "cell_type": "markdown",
      "metadata": {
        "id": "l2S5KA_2PJ7H"
      },
      "source": [
        "## testing"
      ]
    },
    {
      "cell_type": "code",
      "execution_count": null,
      "metadata": {
        "id": "nOXYDa7JPLut"
      },
      "outputs": [],
      "source": [
        "firstFive = textLs[:5]\n",
        "blobFive = [TextBlob(t) for t in firstFive]\n",
        "sentiments = [blob.sentiment for blob in blobFive]"
      ]
    },
    {
      "cell_type": "code",
      "execution_count": null,
      "metadata": {
        "id": "H_Xd8GMXPfU1"
      },
      "outputs": [],
      "source": [
        "for i in range(5):\n",
        "    print(firstFive[i])\n",
        "    print(sentiments[i],\"\\n\") # 0.0 is very objective and 1.0 is very subjective"
      ]
    },
    {
      "cell_type": "markdown",
      "metadata": {
        "id": "aEYUPyiyUg4X"
      },
      "source": [
        "## sentiment, apply to all"
      ]
    },
    {
      "cell_type": "code",
      "execution_count": null,
      "metadata": {
        "id": "Qvnv5csXVACd"
      },
      "outputs": [],
      "source": [
        "def textblob_prediction(x):\n",
        "    try:        \n",
        "        blob = TextBlob(x)\n",
        "        sentiment = blob.sentiment\n",
        "        subjectivity = sentiment.subjectivity\n",
        "        \n",
        "        if subjectivity<=0.4:\n",
        "            return \"objective\", sentiment.polarity\n",
        "        elif subjectivity>=0.6:\n",
        "            return \"subjective\", sentiment.polarity\n",
        "        else:\n",
        "            return \"neutral\", sentiment.polarity\n",
        "    except Exception:\n",
        "        print(x)\n",
        "        return \"none\",0.00"
      ]
    },
    {
      "cell_type": "code",
      "execution_count": null,
      "metadata": {
        "id": "PLrV5yhTWNuh"
      },
      "outputs": [],
      "source": [
        "import swifter\n",
        "data_tb = data_en.dropna(subset=['cleaned_text'])\n",
        "data_tb[\"sentiment\"], data_tb[\"polarity_score\"] =  zip(*data_tb[\"cleaned_text\"].swifter.apply(textblob_prediction))"
      ]
    },
    {
      "cell_type": "code",
      "execution_count": null,
      "metadata": {
        "id": "D_zGT8kjWrFo"
      },
      "outputs": [],
      "source": [
        "data_tb.head(5)"
      ]
    },
    {
      "cell_type": "code",
      "execution_count": null,
      "metadata": {
        "id": "e9k4TkhwV8Oc"
      },
      "outputs": [],
      "source": [
        "data_tb.groupby(['sentiment']).sum().plot(kind='pie', y=\"tweetid\", autopct='%1.1f%%', startangle=270, fontsize=17)"
      ]
    },
    {
      "cell_type": "code",
      "execution_count": null,
      "metadata": {
        "id": "tUMlifaiX0Zs"
      },
      "outputs": [],
      "source": [
        "filename = 'textblob_227-311.csv.zip'\n",
        "data_tb.to_csv(os.path.join(path, filename),compression=\"zip\",index=False)"
      ]
    },
    {
      "cell_type": "markdown",
      "metadata": {
        "id": "fNxiI_FFlYZV"
      },
      "source": [
        "## for some date"
      ]
    },
    {
      "cell_type": "code",
      "execution_count": null,
      "metadata": {
        "id": "v4Cb-TA-lkv1"
      },
      "outputs": [],
      "source": [
        "f = 'textblob_227-311.csv.zip'\n",
        "data_tb = pd.read_csv(os.path.join(path, f), lineterminator='\\n', index_col=False)"
      ]
    },
    {
      "cell_type": "code",
      "execution_count": null,
      "metadata": {
        "id": "bqz2y_8xl2Tk"
      },
      "outputs": [],
      "source": [
        "data_tb[(data_tb['tweetcreatedts'] >= '2022-02-27') & (data_tb['tweetcreatedts'] < '2022-02-28')].groupby(['sentiment']).sum().plot(kind='pie', y=\"tweetid\", autopct='%1.1f%%', startangle=270, fontsize=17)"
      ]
    },
    {
      "cell_type": "code",
      "execution_count": null,
      "metadata": {
        "id": "pEH-imDKnZGh"
      },
      "outputs": [],
      "source": [
        "data_tb[(data_tb['tweetcreatedts'] >= '2022-03-10') & (data_tb['tweetcreatedts'] < '2022-03-11')].groupby(['sentiment']).sum().plot(kind='pie', y=\"tweetid\", autopct='%1.1f%%', startangle=270, fontsize=17)"
      ]
    }
  ],
  "metadata": {
    "colab": {
      "collapsed_sections": [],
      "machine_shape": "hm",
      "name": "sentimentAnalysis.ipynb",
      "provenance": []
    },
    "interpreter": {
      "hash": "7df1b71df7220776fcd446b1bc43df58d13ca4aaf28d77cebbff4a408f817e9b"
    },
    "kernelspec": {
      "display_name": "Python 3.8.12 ('nus')",
      "language": "python",
      "name": "python3"
    },
    "language_info": {
      "codemirror_mode": {
        "name": "ipython",
        "version": 3
      },
      "file_extension": ".py",
      "mimetype": "text/x-python",
      "name": "python",
      "nbconvert_exporter": "python",
      "pygments_lexer": "ipython3",
      "version": "3.8.5"
    },
    "widgets": {
      "application/vnd.jupyter.widget-state+json": {
        "8204536d49b747d1a3adb1d88953a231": {
          "model_module": "@jupyter-widgets/controls",
          "model_name": "HBoxModel",
          "model_module_version": "1.5.0",
          "state": {
            "_dom_classes": [],
            "_model_module": "@jupyter-widgets/controls",
            "_model_module_version": "1.5.0",
            "_model_name": "HBoxModel",
            "_view_count": null,
            "_view_module": "@jupyter-widgets/controls",
            "_view_module_version": "1.5.0",
            "_view_name": "HBoxView",
            "box_style": "",
            "children": [
              "IPY_MODEL_1c101454757243da9d6893267cded9f3",
              "IPY_MODEL_56fd08580d424e6c8bd47ef03acc1e02",
              "IPY_MODEL_5b8b81ccf92e45d3b96424ebf16bbd19"
            ],
            "layout": "IPY_MODEL_63d5eda7af80449989881ce5381200bc"
          }
        },
        "1c101454757243da9d6893267cded9f3": {
          "model_module": "@jupyter-widgets/controls",
          "model_name": "HTMLModel",
          "model_module_version": "1.5.0",
          "state": {
            "_dom_classes": [],
            "_model_module": "@jupyter-widgets/controls",
            "_model_module_version": "1.5.0",
            "_model_name": "HTMLModel",
            "_view_count": null,
            "_view_module": "@jupyter-widgets/controls",
            "_view_module_version": "1.5.0",
            "_view_name": "HTMLView",
            "description": "",
            "description_tooltip": null,
            "layout": "IPY_MODEL_fe1859f4e74147e184180e4df56bc1e0",
            "placeholder": "​",
            "style": "IPY_MODEL_c795877e4afb4ecc96a1012af9ebeb09",
            "value": "Pandas Apply: 100%"
          }
        },
        "56fd08580d424e6c8bd47ef03acc1e02": {
          "model_module": "@jupyter-widgets/controls",
          "model_name": "FloatProgressModel",
          "model_module_version": "1.5.0",
          "state": {
            "_dom_classes": [],
            "_model_module": "@jupyter-widgets/controls",
            "_model_module_version": "1.5.0",
            "_model_name": "FloatProgressModel",
            "_view_count": null,
            "_view_module": "@jupyter-widgets/controls",
            "_view_module_version": "1.5.0",
            "_view_name": "ProgressView",
            "bar_style": "success",
            "description": "",
            "description_tooltip": null,
            "layout": "IPY_MODEL_c9d01d6559b446c68b5b0b6bc731a429",
            "max": 4004608,
            "min": 0,
            "orientation": "horizontal",
            "style": "IPY_MODEL_c820d6b8033a42e791ade120cf3401e1",
            "value": 4004608
          }
        },
        "5b8b81ccf92e45d3b96424ebf16bbd19": {
          "model_module": "@jupyter-widgets/controls",
          "model_name": "HTMLModel",
          "model_module_version": "1.5.0",
          "state": {
            "_dom_classes": [],
            "_model_module": "@jupyter-widgets/controls",
            "_model_module_version": "1.5.0",
            "_model_name": "HTMLModel",
            "_view_count": null,
            "_view_module": "@jupyter-widgets/controls",
            "_view_module_version": "1.5.0",
            "_view_name": "HTMLView",
            "description": "",
            "description_tooltip": null,
            "layout": "IPY_MODEL_c4f4e5e331a943b5a64baa531eb35521",
            "placeholder": "​",
            "style": "IPY_MODEL_f57bf856f25244bf851af8da74b9278e",
            "value": " 4004608/4004608 [14:53&lt;00:00, 4418.46it/s]"
          }
        },
        "63d5eda7af80449989881ce5381200bc": {
          "model_module": "@jupyter-widgets/base",
          "model_name": "LayoutModel",
          "model_module_version": "1.2.0",
          "state": {
            "_model_module": "@jupyter-widgets/base",
            "_model_module_version": "1.2.0",
            "_model_name": "LayoutModel",
            "_view_count": null,
            "_view_module": "@jupyter-widgets/base",
            "_view_module_version": "1.2.0",
            "_view_name": "LayoutView",
            "align_content": null,
            "align_items": null,
            "align_self": null,
            "border": null,
            "bottom": null,
            "display": null,
            "flex": null,
            "flex_flow": null,
            "grid_area": null,
            "grid_auto_columns": null,
            "grid_auto_flow": null,
            "grid_auto_rows": null,
            "grid_column": null,
            "grid_gap": null,
            "grid_row": null,
            "grid_template_areas": null,
            "grid_template_columns": null,
            "grid_template_rows": null,
            "height": null,
            "justify_content": null,
            "justify_items": null,
            "left": null,
            "margin": null,
            "max_height": null,
            "max_width": null,
            "min_height": null,
            "min_width": null,
            "object_fit": null,
            "object_position": null,
            "order": null,
            "overflow": null,
            "overflow_x": null,
            "overflow_y": null,
            "padding": null,
            "right": null,
            "top": null,
            "visibility": null,
            "width": null
          }
        },
        "fe1859f4e74147e184180e4df56bc1e0": {
          "model_module": "@jupyter-widgets/base",
          "model_name": "LayoutModel",
          "model_module_version": "1.2.0",
          "state": {
            "_model_module": "@jupyter-widgets/base",
            "_model_module_version": "1.2.0",
            "_model_name": "LayoutModel",
            "_view_count": null,
            "_view_module": "@jupyter-widgets/base",
            "_view_module_version": "1.2.0",
            "_view_name": "LayoutView",
            "align_content": null,
            "align_items": null,
            "align_self": null,
            "border": null,
            "bottom": null,
            "display": null,
            "flex": null,
            "flex_flow": null,
            "grid_area": null,
            "grid_auto_columns": null,
            "grid_auto_flow": null,
            "grid_auto_rows": null,
            "grid_column": null,
            "grid_gap": null,
            "grid_row": null,
            "grid_template_areas": null,
            "grid_template_columns": null,
            "grid_template_rows": null,
            "height": null,
            "justify_content": null,
            "justify_items": null,
            "left": null,
            "margin": null,
            "max_height": null,
            "max_width": null,
            "min_height": null,
            "min_width": null,
            "object_fit": null,
            "object_position": null,
            "order": null,
            "overflow": null,
            "overflow_x": null,
            "overflow_y": null,
            "padding": null,
            "right": null,
            "top": null,
            "visibility": null,
            "width": null
          }
        },
        "c795877e4afb4ecc96a1012af9ebeb09": {
          "model_module": "@jupyter-widgets/controls",
          "model_name": "DescriptionStyleModel",
          "model_module_version": "1.5.0",
          "state": {
            "_model_module": "@jupyter-widgets/controls",
            "_model_module_version": "1.5.0",
            "_model_name": "DescriptionStyleModel",
            "_view_count": null,
            "_view_module": "@jupyter-widgets/base",
            "_view_module_version": "1.2.0",
            "_view_name": "StyleView",
            "description_width": ""
          }
        },
        "c9d01d6559b446c68b5b0b6bc731a429": {
          "model_module": "@jupyter-widgets/base",
          "model_name": "LayoutModel",
          "model_module_version": "1.2.0",
          "state": {
            "_model_module": "@jupyter-widgets/base",
            "_model_module_version": "1.2.0",
            "_model_name": "LayoutModel",
            "_view_count": null,
            "_view_module": "@jupyter-widgets/base",
            "_view_module_version": "1.2.0",
            "_view_name": "LayoutView",
            "align_content": null,
            "align_items": null,
            "align_self": null,
            "border": null,
            "bottom": null,
            "display": null,
            "flex": null,
            "flex_flow": null,
            "grid_area": null,
            "grid_auto_columns": null,
            "grid_auto_flow": null,
            "grid_auto_rows": null,
            "grid_column": null,
            "grid_gap": null,
            "grid_row": null,
            "grid_template_areas": null,
            "grid_template_columns": null,
            "grid_template_rows": null,
            "height": null,
            "justify_content": null,
            "justify_items": null,
            "left": null,
            "margin": null,
            "max_height": null,
            "max_width": null,
            "min_height": null,
            "min_width": null,
            "object_fit": null,
            "object_position": null,
            "order": null,
            "overflow": null,
            "overflow_x": null,
            "overflow_y": null,
            "padding": null,
            "right": null,
            "top": null,
            "visibility": null,
            "width": null
          }
        },
        "c820d6b8033a42e791ade120cf3401e1": {
          "model_module": "@jupyter-widgets/controls",
          "model_name": "ProgressStyleModel",
          "model_module_version": "1.5.0",
          "state": {
            "_model_module": "@jupyter-widgets/controls",
            "_model_module_version": "1.5.0",
            "_model_name": "ProgressStyleModel",
            "_view_count": null,
            "_view_module": "@jupyter-widgets/base",
            "_view_module_version": "1.2.0",
            "_view_name": "StyleView",
            "bar_color": null,
            "description_width": ""
          }
        },
        "c4f4e5e331a943b5a64baa531eb35521": {
          "model_module": "@jupyter-widgets/base",
          "model_name": "LayoutModel",
          "model_module_version": "1.2.0",
          "state": {
            "_model_module": "@jupyter-widgets/base",
            "_model_module_version": "1.2.0",
            "_model_name": "LayoutModel",
            "_view_count": null,
            "_view_module": "@jupyter-widgets/base",
            "_view_module_version": "1.2.0",
            "_view_name": "LayoutView",
            "align_content": null,
            "align_items": null,
            "align_self": null,
            "border": null,
            "bottom": null,
            "display": null,
            "flex": null,
            "flex_flow": null,
            "grid_area": null,
            "grid_auto_columns": null,
            "grid_auto_flow": null,
            "grid_auto_rows": null,
            "grid_column": null,
            "grid_gap": null,
            "grid_row": null,
            "grid_template_areas": null,
            "grid_template_columns": null,
            "grid_template_rows": null,
            "height": null,
            "justify_content": null,
            "justify_items": null,
            "left": null,
            "margin": null,
            "max_height": null,
            "max_width": null,
            "min_height": null,
            "min_width": null,
            "object_fit": null,
            "object_position": null,
            "order": null,
            "overflow": null,
            "overflow_x": null,
            "overflow_y": null,
            "padding": null,
            "right": null,
            "top": null,
            "visibility": null,
            "width": null
          }
        },
        "f57bf856f25244bf851af8da74b9278e": {
          "model_module": "@jupyter-widgets/controls",
          "model_name": "DescriptionStyleModel",
          "model_module_version": "1.5.0",
          "state": {
            "_model_module": "@jupyter-widgets/controls",
            "_model_module_version": "1.5.0",
            "_model_name": "DescriptionStyleModel",
            "_view_count": null,
            "_view_module": "@jupyter-widgets/base",
            "_view_module_version": "1.2.0",
            "_view_name": "StyleView",
            "description_width": ""
          }
        },
        "b5cdc625324c459faab498b6ad4d2592": {
          "model_module": "@jupyter-widgets/controls",
          "model_name": "HBoxModel",
          "model_module_version": "1.5.0",
          "state": {
            "_dom_classes": [],
            "_model_module": "@jupyter-widgets/controls",
            "_model_module_version": "1.5.0",
            "_model_name": "HBoxModel",
            "_view_count": null,
            "_view_module": "@jupyter-widgets/controls",
            "_view_module_version": "1.5.0",
            "_view_name": "HBoxView",
            "box_style": "",
            "children": [
              "IPY_MODEL_b6b9fcbc024a424c953138b2046e3f87",
              "IPY_MODEL_f1a39e02581f4ec1965d1fe5957d5fca",
              "IPY_MODEL_ee7bd44bf0ea45238939792c064bff54"
            ],
            "layout": "IPY_MODEL_6afac690d5cf42d7874bada10e064be3"
          }
        },
        "b6b9fcbc024a424c953138b2046e3f87": {
          "model_module": "@jupyter-widgets/controls",
          "model_name": "HTMLModel",
          "model_module_version": "1.5.0",
          "state": {
            "_dom_classes": [],
            "_model_module": "@jupyter-widgets/controls",
            "_model_module_version": "1.5.0",
            "_model_name": "HTMLModel",
            "_view_count": null,
            "_view_module": "@jupyter-widgets/controls",
            "_view_module_version": "1.5.0",
            "_view_name": "HTMLView",
            "description": "",
            "description_tooltip": null,
            "layout": "IPY_MODEL_405fa030d5624409ad882f310ba95070",
            "placeholder": "​",
            "style": "IPY_MODEL_b818d0b0f6d64f268426da5f1ed81df3",
            "value": "Pandas Apply: 100%"
          }
        },
        "f1a39e02581f4ec1965d1fe5957d5fca": {
          "model_module": "@jupyter-widgets/controls",
          "model_name": "FloatProgressModel",
          "model_module_version": "1.5.0",
          "state": {
            "_dom_classes": [],
            "_model_module": "@jupyter-widgets/controls",
            "_model_module_version": "1.5.0",
            "_model_name": "FloatProgressModel",
            "_view_count": null,
            "_view_module": "@jupyter-widgets/controls",
            "_view_module_version": "1.5.0",
            "_view_name": "ProgressView",
            "bar_style": "success",
            "description": "",
            "description_tooltip": null,
            "layout": "IPY_MODEL_7fbee6fc8c54496e879006f25e76647f",
            "max": 4004608,
            "min": 0,
            "orientation": "horizontal",
            "style": "IPY_MODEL_831d9b4f32614092a6884bd1addb50b0",
            "value": 4004608
          }
        },
        "ee7bd44bf0ea45238939792c064bff54": {
          "model_module": "@jupyter-widgets/controls",
          "model_name": "HTMLModel",
          "model_module_version": "1.5.0",
          "state": {
            "_dom_classes": [],
            "_model_module": "@jupyter-widgets/controls",
            "_model_module_version": "1.5.0",
            "_model_name": "HTMLModel",
            "_view_count": null,
            "_view_module": "@jupyter-widgets/controls",
            "_view_module_version": "1.5.0",
            "_view_name": "HTMLView",
            "description": "",
            "description_tooltip": null,
            "layout": "IPY_MODEL_c89a60997355445f9f5bcf0bc2971553",
            "placeholder": "​",
            "style": "IPY_MODEL_c85a6b5e5578472cafed65567958e544",
            "value": " 4004608/4004608 [49:56&lt;00:00, 1282.03it/s]"
          }
        },
        "6afac690d5cf42d7874bada10e064be3": {
          "model_module": "@jupyter-widgets/base",
          "model_name": "LayoutModel",
          "model_module_version": "1.2.0",
          "state": {
            "_model_module": "@jupyter-widgets/base",
            "_model_module_version": "1.2.0",
            "_model_name": "LayoutModel",
            "_view_count": null,
            "_view_module": "@jupyter-widgets/base",
            "_view_module_version": "1.2.0",
            "_view_name": "LayoutView",
            "align_content": null,
            "align_items": null,
            "align_self": null,
            "border": null,
            "bottom": null,
            "display": null,
            "flex": null,
            "flex_flow": null,
            "grid_area": null,
            "grid_auto_columns": null,
            "grid_auto_flow": null,
            "grid_auto_rows": null,
            "grid_column": null,
            "grid_gap": null,
            "grid_row": null,
            "grid_template_areas": null,
            "grid_template_columns": null,
            "grid_template_rows": null,
            "height": null,
            "justify_content": null,
            "justify_items": null,
            "left": null,
            "margin": null,
            "max_height": null,
            "max_width": null,
            "min_height": null,
            "min_width": null,
            "object_fit": null,
            "object_position": null,
            "order": null,
            "overflow": null,
            "overflow_x": null,
            "overflow_y": null,
            "padding": null,
            "right": null,
            "top": null,
            "visibility": null,
            "width": null
          }
        },
        "405fa030d5624409ad882f310ba95070": {
          "model_module": "@jupyter-widgets/base",
          "model_name": "LayoutModel",
          "model_module_version": "1.2.0",
          "state": {
            "_model_module": "@jupyter-widgets/base",
            "_model_module_version": "1.2.0",
            "_model_name": "LayoutModel",
            "_view_count": null,
            "_view_module": "@jupyter-widgets/base",
            "_view_module_version": "1.2.0",
            "_view_name": "LayoutView",
            "align_content": null,
            "align_items": null,
            "align_self": null,
            "border": null,
            "bottom": null,
            "display": null,
            "flex": null,
            "flex_flow": null,
            "grid_area": null,
            "grid_auto_columns": null,
            "grid_auto_flow": null,
            "grid_auto_rows": null,
            "grid_column": null,
            "grid_gap": null,
            "grid_row": null,
            "grid_template_areas": null,
            "grid_template_columns": null,
            "grid_template_rows": null,
            "height": null,
            "justify_content": null,
            "justify_items": null,
            "left": null,
            "margin": null,
            "max_height": null,
            "max_width": null,
            "min_height": null,
            "min_width": null,
            "object_fit": null,
            "object_position": null,
            "order": null,
            "overflow": null,
            "overflow_x": null,
            "overflow_y": null,
            "padding": null,
            "right": null,
            "top": null,
            "visibility": null,
            "width": null
          }
        },
        "b818d0b0f6d64f268426da5f1ed81df3": {
          "model_module": "@jupyter-widgets/controls",
          "model_name": "DescriptionStyleModel",
          "model_module_version": "1.5.0",
          "state": {
            "_model_module": "@jupyter-widgets/controls",
            "_model_module_version": "1.5.0",
            "_model_name": "DescriptionStyleModel",
            "_view_count": null,
            "_view_module": "@jupyter-widgets/base",
            "_view_module_version": "1.2.0",
            "_view_name": "StyleView",
            "description_width": ""
          }
        },
        "7fbee6fc8c54496e879006f25e76647f": {
          "model_module": "@jupyter-widgets/base",
          "model_name": "LayoutModel",
          "model_module_version": "1.2.0",
          "state": {
            "_model_module": "@jupyter-widgets/base",
            "_model_module_version": "1.2.0",
            "_model_name": "LayoutModel",
            "_view_count": null,
            "_view_module": "@jupyter-widgets/base",
            "_view_module_version": "1.2.0",
            "_view_name": "LayoutView",
            "align_content": null,
            "align_items": null,
            "align_self": null,
            "border": null,
            "bottom": null,
            "display": null,
            "flex": null,
            "flex_flow": null,
            "grid_area": null,
            "grid_auto_columns": null,
            "grid_auto_flow": null,
            "grid_auto_rows": null,
            "grid_column": null,
            "grid_gap": null,
            "grid_row": null,
            "grid_template_areas": null,
            "grid_template_columns": null,
            "grid_template_rows": null,
            "height": null,
            "justify_content": null,
            "justify_items": null,
            "left": null,
            "margin": null,
            "max_height": null,
            "max_width": null,
            "min_height": null,
            "min_width": null,
            "object_fit": null,
            "object_position": null,
            "order": null,
            "overflow": null,
            "overflow_x": null,
            "overflow_y": null,
            "padding": null,
            "right": null,
            "top": null,
            "visibility": null,
            "width": null
          }
        },
        "831d9b4f32614092a6884bd1addb50b0": {
          "model_module": "@jupyter-widgets/controls",
          "model_name": "ProgressStyleModel",
          "model_module_version": "1.5.0",
          "state": {
            "_model_module": "@jupyter-widgets/controls",
            "_model_module_version": "1.5.0",
            "_model_name": "ProgressStyleModel",
            "_view_count": null,
            "_view_module": "@jupyter-widgets/base",
            "_view_module_version": "1.2.0",
            "_view_name": "StyleView",
            "bar_color": null,
            "description_width": ""
          }
        },
        "c89a60997355445f9f5bcf0bc2971553": {
          "model_module": "@jupyter-widgets/base",
          "model_name": "LayoutModel",
          "model_module_version": "1.2.0",
          "state": {
            "_model_module": "@jupyter-widgets/base",
            "_model_module_version": "1.2.0",
            "_model_name": "LayoutModel",
            "_view_count": null,
            "_view_module": "@jupyter-widgets/base",
            "_view_module_version": "1.2.0",
            "_view_name": "LayoutView",
            "align_content": null,
            "align_items": null,
            "align_self": null,
            "border": null,
            "bottom": null,
            "display": null,
            "flex": null,
            "flex_flow": null,
            "grid_area": null,
            "grid_auto_columns": null,
            "grid_auto_flow": null,
            "grid_auto_rows": null,
            "grid_column": null,
            "grid_gap": null,
            "grid_row": null,
            "grid_template_areas": null,
            "grid_template_columns": null,
            "grid_template_rows": null,
            "height": null,
            "justify_content": null,
            "justify_items": null,
            "left": null,
            "margin": null,
            "max_height": null,
            "max_width": null,
            "min_height": null,
            "min_width": null,
            "object_fit": null,
            "object_position": null,
            "order": null,
            "overflow": null,
            "overflow_x": null,
            "overflow_y": null,
            "padding": null,
            "right": null,
            "top": null,
            "visibility": null,
            "width": null
          }
        },
        "c85a6b5e5578472cafed65567958e544": {
          "model_module": "@jupyter-widgets/controls",
          "model_name": "DescriptionStyleModel",
          "model_module_version": "1.5.0",
          "state": {
            "_model_module": "@jupyter-widgets/controls",
            "_model_module_version": "1.5.0",
            "_model_name": "DescriptionStyleModel",
            "_view_count": null,
            "_view_module": "@jupyter-widgets/base",
            "_view_module_version": "1.2.0",
            "_view_name": "StyleView",
            "description_width": ""
          }
        },
        "be67f7e38b4a48d6be36a58d6ed837e2": {
          "model_module": "@jupyter-widgets/controls",
          "model_name": "HBoxModel",
          "model_module_version": "1.5.0",
          "state": {
            "_dom_classes": [],
            "_model_module": "@jupyter-widgets/controls",
            "_model_module_version": "1.5.0",
            "_model_name": "HBoxModel",
            "_view_count": null,
            "_view_module": "@jupyter-widgets/controls",
            "_view_module_version": "1.5.0",
            "_view_name": "HBoxView",
            "box_style": "",
            "children": [
              "IPY_MODEL_f7275eb5f7b740debb622b58d44f1f35",
              "IPY_MODEL_d971ade8e6664fef88698b68e8a80c0f",
              "IPY_MODEL_2cf7b8ac100e4c2cb60b83b9ade39b9a"
            ],
            "layout": "IPY_MODEL_4d22993b77f942028390e735188e80a5"
          }
        },
        "f7275eb5f7b740debb622b58d44f1f35": {
          "model_module": "@jupyter-widgets/controls",
          "model_name": "HTMLModel",
          "model_module_version": "1.5.0",
          "state": {
            "_dom_classes": [],
            "_model_module": "@jupyter-widgets/controls",
            "_model_module_version": "1.5.0",
            "_model_name": "HTMLModel",
            "_view_count": null,
            "_view_module": "@jupyter-widgets/controls",
            "_view_module_version": "1.5.0",
            "_view_name": "HTMLView",
            "description": "",
            "description_tooltip": null,
            "layout": "IPY_MODEL_acf09bacf2c44867a3566acbba671e54",
            "placeholder": "​",
            "style": "IPY_MODEL_9a673b2927f447758309e777b0e23c7e",
            "value": "Pandas Apply: 100%"
          }
        },
        "d971ade8e6664fef88698b68e8a80c0f": {
          "model_module": "@jupyter-widgets/controls",
          "model_name": "FloatProgressModel",
          "model_module_version": "1.5.0",
          "state": {
            "_dom_classes": [],
            "_model_module": "@jupyter-widgets/controls",
            "_model_module_version": "1.5.0",
            "_model_name": "FloatProgressModel",
            "_view_count": null,
            "_view_module": "@jupyter-widgets/controls",
            "_view_module_version": "1.5.0",
            "_view_name": "ProgressView",
            "bar_style": "success",
            "description": "",
            "description_tooltip": null,
            "layout": "IPY_MODEL_537f672fb01a45a8b4f8435ab000dfc5",
            "max": 4004608,
            "min": 0,
            "orientation": "horizontal",
            "style": "IPY_MODEL_73d1d82d6aa14f9db42b44ce6c3ea6fb",
            "value": 4004608
          }
        },
        "2cf7b8ac100e4c2cb60b83b9ade39b9a": {
          "model_module": "@jupyter-widgets/controls",
          "model_name": "HTMLModel",
          "model_module_version": "1.5.0",
          "state": {
            "_dom_classes": [],
            "_model_module": "@jupyter-widgets/controls",
            "_model_module_version": "1.5.0",
            "_model_name": "HTMLModel",
            "_view_count": null,
            "_view_module": "@jupyter-widgets/controls",
            "_view_module_version": "1.5.0",
            "_view_name": "HTMLView",
            "description": "",
            "description_tooltip": null,
            "layout": "IPY_MODEL_51cd0d06e7c0426e9376daedf96b85f1",
            "placeholder": "​",
            "style": "IPY_MODEL_bb117ac7518c4ab5a208b43c31ed41aa",
            "value": " 4004608/4004608 [21:22&lt;00:00, 3221.88it/s]"
          }
        },
        "4d22993b77f942028390e735188e80a5": {
          "model_module": "@jupyter-widgets/base",
          "model_name": "LayoutModel",
          "model_module_version": "1.2.0",
          "state": {
            "_model_module": "@jupyter-widgets/base",
            "_model_module_version": "1.2.0",
            "_model_name": "LayoutModel",
            "_view_count": null,
            "_view_module": "@jupyter-widgets/base",
            "_view_module_version": "1.2.0",
            "_view_name": "LayoutView",
            "align_content": null,
            "align_items": null,
            "align_self": null,
            "border": null,
            "bottom": null,
            "display": null,
            "flex": null,
            "flex_flow": null,
            "grid_area": null,
            "grid_auto_columns": null,
            "grid_auto_flow": null,
            "grid_auto_rows": null,
            "grid_column": null,
            "grid_gap": null,
            "grid_row": null,
            "grid_template_areas": null,
            "grid_template_columns": null,
            "grid_template_rows": null,
            "height": null,
            "justify_content": null,
            "justify_items": null,
            "left": null,
            "margin": null,
            "max_height": null,
            "max_width": null,
            "min_height": null,
            "min_width": null,
            "object_fit": null,
            "object_position": null,
            "order": null,
            "overflow": null,
            "overflow_x": null,
            "overflow_y": null,
            "padding": null,
            "right": null,
            "top": null,
            "visibility": null,
            "width": null
          }
        },
        "acf09bacf2c44867a3566acbba671e54": {
          "model_module": "@jupyter-widgets/base",
          "model_name": "LayoutModel",
          "model_module_version": "1.2.0",
          "state": {
            "_model_module": "@jupyter-widgets/base",
            "_model_module_version": "1.2.0",
            "_model_name": "LayoutModel",
            "_view_count": null,
            "_view_module": "@jupyter-widgets/base",
            "_view_module_version": "1.2.0",
            "_view_name": "LayoutView",
            "align_content": null,
            "align_items": null,
            "align_self": null,
            "border": null,
            "bottom": null,
            "display": null,
            "flex": null,
            "flex_flow": null,
            "grid_area": null,
            "grid_auto_columns": null,
            "grid_auto_flow": null,
            "grid_auto_rows": null,
            "grid_column": null,
            "grid_gap": null,
            "grid_row": null,
            "grid_template_areas": null,
            "grid_template_columns": null,
            "grid_template_rows": null,
            "height": null,
            "justify_content": null,
            "justify_items": null,
            "left": null,
            "margin": null,
            "max_height": null,
            "max_width": null,
            "min_height": null,
            "min_width": null,
            "object_fit": null,
            "object_position": null,
            "order": null,
            "overflow": null,
            "overflow_x": null,
            "overflow_y": null,
            "padding": null,
            "right": null,
            "top": null,
            "visibility": null,
            "width": null
          }
        },
        "9a673b2927f447758309e777b0e23c7e": {
          "model_module": "@jupyter-widgets/controls",
          "model_name": "DescriptionStyleModel",
          "model_module_version": "1.5.0",
          "state": {
            "_model_module": "@jupyter-widgets/controls",
            "_model_module_version": "1.5.0",
            "_model_name": "DescriptionStyleModel",
            "_view_count": null,
            "_view_module": "@jupyter-widgets/base",
            "_view_module_version": "1.2.0",
            "_view_name": "StyleView",
            "description_width": ""
          }
        },
        "537f672fb01a45a8b4f8435ab000dfc5": {
          "model_module": "@jupyter-widgets/base",
          "model_name": "LayoutModel",
          "model_module_version": "1.2.0",
          "state": {
            "_model_module": "@jupyter-widgets/base",
            "_model_module_version": "1.2.0",
            "_model_name": "LayoutModel",
            "_view_count": null,
            "_view_module": "@jupyter-widgets/base",
            "_view_module_version": "1.2.0",
            "_view_name": "LayoutView",
            "align_content": null,
            "align_items": null,
            "align_self": null,
            "border": null,
            "bottom": null,
            "display": null,
            "flex": null,
            "flex_flow": null,
            "grid_area": null,
            "grid_auto_columns": null,
            "grid_auto_flow": null,
            "grid_auto_rows": null,
            "grid_column": null,
            "grid_gap": null,
            "grid_row": null,
            "grid_template_areas": null,
            "grid_template_columns": null,
            "grid_template_rows": null,
            "height": null,
            "justify_content": null,
            "justify_items": null,
            "left": null,
            "margin": null,
            "max_height": null,
            "max_width": null,
            "min_height": null,
            "min_width": null,
            "object_fit": null,
            "object_position": null,
            "order": null,
            "overflow": null,
            "overflow_x": null,
            "overflow_y": null,
            "padding": null,
            "right": null,
            "top": null,
            "visibility": null,
            "width": null
          }
        },
        "73d1d82d6aa14f9db42b44ce6c3ea6fb": {
          "model_module": "@jupyter-widgets/controls",
          "model_name": "ProgressStyleModel",
          "model_module_version": "1.5.0",
          "state": {
            "_model_module": "@jupyter-widgets/controls",
            "_model_module_version": "1.5.0",
            "_model_name": "ProgressStyleModel",
            "_view_count": null,
            "_view_module": "@jupyter-widgets/base",
            "_view_module_version": "1.2.0",
            "_view_name": "StyleView",
            "bar_color": null,
            "description_width": ""
          }
        },
        "51cd0d06e7c0426e9376daedf96b85f1": {
          "model_module": "@jupyter-widgets/base",
          "model_name": "LayoutModel",
          "model_module_version": "1.2.0",
          "state": {
            "_model_module": "@jupyter-widgets/base",
            "_model_module_version": "1.2.0",
            "_model_name": "LayoutModel",
            "_view_count": null,
            "_view_module": "@jupyter-widgets/base",
            "_view_module_version": "1.2.0",
            "_view_name": "LayoutView",
            "align_content": null,
            "align_items": null,
            "align_self": null,
            "border": null,
            "bottom": null,
            "display": null,
            "flex": null,
            "flex_flow": null,
            "grid_area": null,
            "grid_auto_columns": null,
            "grid_auto_flow": null,
            "grid_auto_rows": null,
            "grid_column": null,
            "grid_gap": null,
            "grid_row": null,
            "grid_template_areas": null,
            "grid_template_columns": null,
            "grid_template_rows": null,
            "height": null,
            "justify_content": null,
            "justify_items": null,
            "left": null,
            "margin": null,
            "max_height": null,
            "max_width": null,
            "min_height": null,
            "min_width": null,
            "object_fit": null,
            "object_position": null,
            "order": null,
            "overflow": null,
            "overflow_x": null,
            "overflow_y": null,
            "padding": null,
            "right": null,
            "top": null,
            "visibility": null,
            "width": null
          }
        },
        "bb117ac7518c4ab5a208b43c31ed41aa": {
          "model_module": "@jupyter-widgets/controls",
          "model_name": "DescriptionStyleModel",
          "model_module_version": "1.5.0",
          "state": {
            "_model_module": "@jupyter-widgets/controls",
            "_model_module_version": "1.5.0",
            "_model_name": "DescriptionStyleModel",
            "_view_count": null,
            "_view_module": "@jupyter-widgets/base",
            "_view_module_version": "1.2.0",
            "_view_name": "StyleView",
            "description_width": ""
          }
        }
      }
    }
  },
  "nbformat": 4,
  "nbformat_minor": 0
}